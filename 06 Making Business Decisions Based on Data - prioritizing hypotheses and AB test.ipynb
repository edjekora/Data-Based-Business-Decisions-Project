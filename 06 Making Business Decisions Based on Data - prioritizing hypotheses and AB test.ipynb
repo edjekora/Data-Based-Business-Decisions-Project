{
 "cells": [
  {
   "cell_type": "markdown",
   "id": "92aaa173",
   "metadata": {},
   "source": [
    "# Making Business Decisions Based on Data Project\n",
    "\n",
    "## Introduction\n",
    "\n",
    "The purpose of this project is to look for ways to boost revenue for an online store.<br>\n",
    "For this sake I need to prioritize list of hypotheses (compiled with the help of Marketing department), launch an A/B test and analyze the results.<br>\n",
    "The project is divided into two parts: in the first the hypotheses are being prioritized with the help of two different frameworks, and the second part includes analysis of the chosen hypothesis."
   ]
  },
  {
   "cell_type": "markdown",
   "id": "69d6aab7",
   "metadata": {},
   "source": [
    "## Table of Contents\n",
    "\n",
    "1. **Part 1. Prioritizing Hypotheses**\n",
    "    * 1.1 [Load and preprocess the data](#1.1-Load-and-preprocess-the-data)\n",
    "    * 1.2 [Apply the ICE framework](#1.2-Apply-the-ICE-Framework)\n",
    "    * 1.3 [Apply the RICE framework](#1.3-Apply-the-RICE-Framework)\n",
    "    * 1.4 [The difference between ICE and RICE. Conclusion](#1.4-The-Difference-Between-ICE-and-RICE:-Conclusion)\n",
    "    \n",
    "    \n",
    "2. **A/B Test Analysis**. [Load and preprocess the data](#Load-and-preprocess-the-data)\n",
    "    * 2.1 [Graph cumulative revenue by group](#2.1-Graph-cumulative-revenue-by-group.-Make-conclusions-and-conjectures.)\n",
    "    * 2.2 [Graph cumulative average order size by group](#2.2-Graph-cumulative-average-order-size-by-group.-Make-conclusions-and-conjectures.)\n",
    "    * 2.3 [Relative difference](#2.3-Relative-difference)\n",
    "    * 2.4 [Conversion rates](#2.3-Conversion-rates)\n",
    "    * 2.5 [Orders per user](#2.4-Orders-per-User)\n",
    "    * 2.6 [Orders per user - define anomalous](#2.5-Define-anomalous-number-of-orders-per-user)\n",
    "    * 2.7 [Orders' prices](#2.6-Orders'-prices)\n",
    "    * 2.8 [Orders' prices - define anomalous](#Define-anomalous-order-prices)\n",
    "    * 2.9 [Statistical significance of the difference in conversion (raw data)](#2.9-Find-the-statistical-significance-of-the-difference-in-conversion-between-the-groups-using-the-raw-data.-Make-conclusions-and-conjectures.)\n",
    "    * 2.10 [Statistical significance of the difference in average order size (raw data)](#2.10-Find-the-statistical-significance-of-the-difference-in-average-order-size-between-the-groups-using-the-raw-data.-Make-conclusions-and-conjectures.)\n",
    "    * 2.11 [Statistical significance of the difference in conversion (filtered data)](#2.11-Find-the-statistical-significance-of-the-difference-in-conversion-between-the-groups-using-the-filtered-data.-Make-conclusions-and-conjectures.)\n",
    "    * 2.12 [Statistical significance of the difference in average order size (filtered data)](#2.12-Find-the-statistical-significance-of-the-difference-in-average-order-size-between-the-groups-using-the-filtered-data.-Make-conclusions-and-conjectures.)\n",
    "    * 2.13 [Conclusion](#Make-a-decision-based-on-the-test-results.)"
   ]
  },
  {
   "cell_type": "code",
   "execution_count": 1,
   "id": "711a44b4",
   "metadata": {},
   "outputs": [],
   "source": [
    "### Libraries cell\n",
    "import pandas as pd\n",
    "pd.set_option('max_colwidth', 450)\n",
    "\n",
    "import numpy as np\n",
    "import matplotlib.pyplot as plt\n",
    "import math\n",
    "from scipy import stats as st\n",
    "import random\n",
    "import seaborn as sns\n"
   ]
  },
  {
   "cell_type": "markdown",
   "id": "05f8784d",
   "metadata": {},
   "source": [
    "# Part 1. Prioritizing Hypotheses\n",
    "\n",
    "## 1.1 Load and preprocess the data"
   ]
  },
  {
   "cell_type": "code",
   "execution_count": 2,
   "id": "8e973a64",
   "metadata": {},
   "outputs": [
    {
     "name": "stdout",
     "output_type": "stream",
     "text": [
      "<class 'pandas.core.frame.DataFrame'>\n",
      "RangeIndex: 9 entries, 0 to 8\n",
      "Data columns (total 5 columns):\n",
      " #   Column      Non-Null Count  Dtype \n",
      "---  ------      --------------  ----- \n",
      " 0   Hypothesis  9 non-null      object\n",
      " 1   Reach       9 non-null      int64 \n",
      " 2   Impact      9 non-null      int64 \n",
      " 3   Confidence  9 non-null      int64 \n",
      " 4   Effort      9 non-null      int64 \n",
      "dtypes: int64(4), object(1)\n",
      "memory usage: 488.0+ bytes\n"
     ]
    }
   ],
   "source": [
    "try:\n",
    "    hypotheses = pd.read_csv('datasets/hypotheses_us.csv', sep = ';')\n",
    "except:\n",
    "    hypotheses = pd.read_csv('/datasets/hypotheses_us.csv', sep = ';')\n",
    "    \n",
    "hypotheses.info()"
   ]
  },
  {
   "cell_type": "code",
   "execution_count": 3,
   "id": "c1fd916d",
   "metadata": {},
   "outputs": [
    {
     "data": {
      "text/html": [
       "<div>\n",
       "<style scoped>\n",
       "    .dataframe tbody tr th:only-of-type {\n",
       "        vertical-align: middle;\n",
       "    }\n",
       "\n",
       "    .dataframe tbody tr th {\n",
       "        vertical-align: top;\n",
       "    }\n",
       "\n",
       "    .dataframe thead th {\n",
       "        text-align: right;\n",
       "    }\n",
       "</style>\n",
       "<table border=\"1\" class=\"dataframe\">\n",
       "  <thead>\n",
       "    <tr style=\"text-align: right;\">\n",
       "      <th></th>\n",
       "      <th>hypothesis</th>\n",
       "      <th>reach</th>\n",
       "      <th>impact</th>\n",
       "      <th>confidence</th>\n",
       "      <th>effort</th>\n",
       "    </tr>\n",
       "  </thead>\n",
       "  <tbody>\n",
       "    <tr>\n",
       "      <th>0</th>\n",
       "      <td>Add two new channels for attracting traffic. This will bring 30% more users</td>\n",
       "      <td>3</td>\n",
       "      <td>10</td>\n",
       "      <td>8</td>\n",
       "      <td>6</td>\n",
       "    </tr>\n",
       "    <tr>\n",
       "      <th>1</th>\n",
       "      <td>Launch your own delivery service. This will shorten delivery time</td>\n",
       "      <td>2</td>\n",
       "      <td>5</td>\n",
       "      <td>4</td>\n",
       "      <td>10</td>\n",
       "    </tr>\n",
       "    <tr>\n",
       "      <th>2</th>\n",
       "      <td>Add product recommendation blocks to the store's site. This will increase conversion and average purchase size</td>\n",
       "      <td>8</td>\n",
       "      <td>3</td>\n",
       "      <td>7</td>\n",
       "      <td>3</td>\n",
       "    </tr>\n",
       "    <tr>\n",
       "      <th>3</th>\n",
       "      <td>Change the category structure. This will increase conversion since users will find the products they want more quickly</td>\n",
       "      <td>8</td>\n",
       "      <td>3</td>\n",
       "      <td>3</td>\n",
       "      <td>8</td>\n",
       "    </tr>\n",
       "    <tr>\n",
       "      <th>4</th>\n",
       "      <td>Change the background color on the main page. This will increase user engagement</td>\n",
       "      <td>3</td>\n",
       "      <td>1</td>\n",
       "      <td>1</td>\n",
       "      <td>1</td>\n",
       "    </tr>\n",
       "    <tr>\n",
       "      <th>5</th>\n",
       "      <td>Add a customer review page. This will increase the number of orders</td>\n",
       "      <td>3</td>\n",
       "      <td>2</td>\n",
       "      <td>2</td>\n",
       "      <td>3</td>\n",
       "    </tr>\n",
       "    <tr>\n",
       "      <th>6</th>\n",
       "      <td>Show banners with current offers and sales on the main page. This will boost conversion</td>\n",
       "      <td>5</td>\n",
       "      <td>3</td>\n",
       "      <td>8</td>\n",
       "      <td>3</td>\n",
       "    </tr>\n",
       "    <tr>\n",
       "      <th>7</th>\n",
       "      <td>Add a subscription form to all the main pages. This will help you compile a mailing list</td>\n",
       "      <td>10</td>\n",
       "      <td>7</td>\n",
       "      <td>8</td>\n",
       "      <td>5</td>\n",
       "    </tr>\n",
       "    <tr>\n",
       "      <th>8</th>\n",
       "      <td>Launch a promotion that gives users discounts on their birthdays</td>\n",
       "      <td>1</td>\n",
       "      <td>9</td>\n",
       "      <td>9</td>\n",
       "      <td>5</td>\n",
       "    </tr>\n",
       "  </tbody>\n",
       "</table>\n",
       "</div>"
      ],
      "text/plain": [
       "                                                                                                               hypothesis  \\\n",
       "0                                             Add two new channels for attracting traffic. This will bring 30% more users   \n",
       "1                                                       Launch your own delivery service. This will shorten delivery time   \n",
       "2          Add product recommendation blocks to the store's site. This will increase conversion and average purchase size   \n",
       "3  Change the category structure. This will increase conversion since users will find the products they want more quickly   \n",
       "4                                        Change the background color on the main page. This will increase user engagement   \n",
       "5                                                     Add a customer review page. This will increase the number of orders   \n",
       "6                                 Show banners with current offers and sales on the main page. This will boost conversion   \n",
       "7                                Add a subscription form to all the main pages. This will help you compile a mailing list   \n",
       "8                                                        Launch a promotion that gives users discounts on their birthdays   \n",
       "\n",
       "   reach  impact  confidence  effort  \n",
       "0      3      10           8       6  \n",
       "1      2       5           4      10  \n",
       "2      8       3           7       3  \n",
       "3      8       3           3       8  \n",
       "4      3       1           1       1  \n",
       "5      3       2           2       3  \n",
       "6      5       3           8       3  \n",
       "7     10       7           8       5  \n",
       "8      1       9           9       5  "
      ]
     },
     "execution_count": 3,
     "metadata": {},
     "output_type": "execute_result"
    }
   ],
   "source": [
    "for column in hypotheses.columns:\n",
    "    hypotheses = hypotheses.rename(columns = {column:column.lower()})\n",
    "    \n",
    "hypotheses"
   ]
  },
  {
   "cell_type": "markdown",
   "id": "b1dfc453",
   "metadata": {},
   "source": [
    "#### <font color = 'blue'>Notes:</font>\n",
    "The dataset is very small, all the numeric values are already ints. No missing scores. I had only to change separator to ';' and convert column names to lowercase."
   ]
  },
  {
   "cell_type": "markdown",
   "id": "75bd9ed8",
   "metadata": {},
   "source": [
    "## 1.2 Apply the ICE Framework\n",
    "\n",
    "ICE framework is a popular prioritization method. It's formula is: **(Impact * Reach) / Effort**.<br>\n",
    "In this formula the assurance of the evaluation is represented by Confidence, the feature effect on the product is Impact, and the Effort is about the easiness of implementation."
   ]
  },
  {
   "cell_type": "code",
   "execution_count": 4,
   "id": "6c0aa985",
   "metadata": {},
   "outputs": [],
   "source": [
    "hypotheses['ice'] = ((hypotheses['impact'] * hypotheses['confidence']) / hypotheses['effort']).round(2)"
   ]
  },
  {
   "cell_type": "code",
   "execution_count": 5,
   "id": "0f619dcf",
   "metadata": {},
   "outputs": [
    {
     "data": {
      "text/html": [
       "<div>\n",
       "<style scoped>\n",
       "    .dataframe tbody tr th:only-of-type {\n",
       "        vertical-align: middle;\n",
       "    }\n",
       "\n",
       "    .dataframe tbody tr th {\n",
       "        vertical-align: top;\n",
       "    }\n",
       "\n",
       "    .dataframe thead th {\n",
       "        text-align: right;\n",
       "    }\n",
       "</style>\n",
       "<table border=\"1\" class=\"dataframe\">\n",
       "  <thead>\n",
       "    <tr style=\"text-align: right;\">\n",
       "      <th></th>\n",
       "      <th>hypothesis</th>\n",
       "      <th>reach</th>\n",
       "      <th>impact</th>\n",
       "      <th>confidence</th>\n",
       "      <th>effort</th>\n",
       "      <th>ice</th>\n",
       "    </tr>\n",
       "  </thead>\n",
       "  <tbody>\n",
       "    <tr>\n",
       "      <th>8</th>\n",
       "      <td>Launch a promotion that gives users discounts on their birthdays</td>\n",
       "      <td>1</td>\n",
       "      <td>9</td>\n",
       "      <td>9</td>\n",
       "      <td>5</td>\n",
       "      <td>16.20</td>\n",
       "    </tr>\n",
       "    <tr>\n",
       "      <th>0</th>\n",
       "      <td>Add two new channels for attracting traffic. This will bring 30% more users</td>\n",
       "      <td>3</td>\n",
       "      <td>10</td>\n",
       "      <td>8</td>\n",
       "      <td>6</td>\n",
       "      <td>13.33</td>\n",
       "    </tr>\n",
       "    <tr>\n",
       "      <th>7</th>\n",
       "      <td>Add a subscription form to all the main pages. This will help you compile a mailing list</td>\n",
       "      <td>10</td>\n",
       "      <td>7</td>\n",
       "      <td>8</td>\n",
       "      <td>5</td>\n",
       "      <td>11.20</td>\n",
       "    </tr>\n",
       "    <tr>\n",
       "      <th>6</th>\n",
       "      <td>Show banners with current offers and sales on the main page. This will boost conversion</td>\n",
       "      <td>5</td>\n",
       "      <td>3</td>\n",
       "      <td>8</td>\n",
       "      <td>3</td>\n",
       "      <td>8.00</td>\n",
       "    </tr>\n",
       "    <tr>\n",
       "      <th>2</th>\n",
       "      <td>Add product recommendation blocks to the store's site. This will increase conversion and average purchase size</td>\n",
       "      <td>8</td>\n",
       "      <td>3</td>\n",
       "      <td>7</td>\n",
       "      <td>3</td>\n",
       "      <td>7.00</td>\n",
       "    </tr>\n",
       "    <tr>\n",
       "      <th>1</th>\n",
       "      <td>Launch your own delivery service. This will shorten delivery time</td>\n",
       "      <td>2</td>\n",
       "      <td>5</td>\n",
       "      <td>4</td>\n",
       "      <td>10</td>\n",
       "      <td>2.00</td>\n",
       "    </tr>\n",
       "    <tr>\n",
       "      <th>5</th>\n",
       "      <td>Add a customer review page. This will increase the number of orders</td>\n",
       "      <td>3</td>\n",
       "      <td>2</td>\n",
       "      <td>2</td>\n",
       "      <td>3</td>\n",
       "      <td>1.33</td>\n",
       "    </tr>\n",
       "    <tr>\n",
       "      <th>3</th>\n",
       "      <td>Change the category structure. This will increase conversion since users will find the products they want more quickly</td>\n",
       "      <td>8</td>\n",
       "      <td>3</td>\n",
       "      <td>3</td>\n",
       "      <td>8</td>\n",
       "      <td>1.12</td>\n",
       "    </tr>\n",
       "    <tr>\n",
       "      <th>4</th>\n",
       "      <td>Change the background color on the main page. This will increase user engagement</td>\n",
       "      <td>3</td>\n",
       "      <td>1</td>\n",
       "      <td>1</td>\n",
       "      <td>1</td>\n",
       "      <td>1.00</td>\n",
       "    </tr>\n",
       "  </tbody>\n",
       "</table>\n",
       "</div>"
      ],
      "text/plain": [
       "                                                                                                               hypothesis  \\\n",
       "8                                                        Launch a promotion that gives users discounts on their birthdays   \n",
       "0                                             Add two new channels for attracting traffic. This will bring 30% more users   \n",
       "7                                Add a subscription form to all the main pages. This will help you compile a mailing list   \n",
       "6                                 Show banners with current offers and sales on the main page. This will boost conversion   \n",
       "2          Add product recommendation blocks to the store's site. This will increase conversion and average purchase size   \n",
       "1                                                       Launch your own delivery service. This will shorten delivery time   \n",
       "5                                                     Add a customer review page. This will increase the number of orders   \n",
       "3  Change the category structure. This will increase conversion since users will find the products they want more quickly   \n",
       "4                                        Change the background color on the main page. This will increase user engagement   \n",
       "\n",
       "   reach  impact  confidence  effort    ice  \n",
       "8      1       9           9       5  16.20  \n",
       "0      3      10           8       6  13.33  \n",
       "7     10       7           8       5  11.20  \n",
       "6      5       3           8       3   8.00  \n",
       "2      8       3           7       3   7.00  \n",
       "1      2       5           4      10   2.00  \n",
       "5      3       2           2       3   1.33  \n",
       "3      8       3           3       8   1.12  \n",
       "4      3       1           1       1   1.00  "
      ]
     },
     "execution_count": 5,
     "metadata": {},
     "output_type": "execute_result"
    }
   ],
   "source": [
    "hypotheses.sort_values(by = 'ice', ascending = False)"
   ]
  },
  {
   "cell_type": "markdown",
   "id": "9b80e489",
   "metadata": {},
   "source": [
    "#### <font color = 'blue'>Notes:</font>\n",
    "\n",
    "The top 3 hypotheses are:\n",
    "* Launch a promotion that gives users discounts on their birthdays\n",
    "* Add two new channels for attracting traffic. This will bring 30% more users\n",
    "* Add a subscription form to all the main pages. This will help you compile a mailing list"
   ]
  },
  {
   "cell_type": "markdown",
   "id": "0333f0bf",
   "metadata": {},
   "source": [
    "## 1.3 Apply the RICE Framework\n",
    "\n",
    "RICE is a prioritization method with the following formula: **(Reach * Impact * Confidence) / Effort**.<br>\n",
    "Compared to the ICE metrics, it has additional scoring parameter 'Reach', which indicates how many users will be affected by a proposed change."
   ]
  },
  {
   "cell_type": "code",
   "execution_count": 6,
   "id": "e03e27b9",
   "metadata": {},
   "outputs": [],
   "source": [
    "hypotheses['rice'] = (\n",
    "    (hypotheses['reach'] * hypotheses['impact'] * hypotheses['confidence']) / hypotheses['effort']).astype('int')"
   ]
  },
  {
   "cell_type": "code",
   "execution_count": 7,
   "id": "db7fc308",
   "metadata": {},
   "outputs": [
    {
     "data": {
      "text/html": [
       "<div>\n",
       "<style scoped>\n",
       "    .dataframe tbody tr th:only-of-type {\n",
       "        vertical-align: middle;\n",
       "    }\n",
       "\n",
       "    .dataframe tbody tr th {\n",
       "        vertical-align: top;\n",
       "    }\n",
       "\n",
       "    .dataframe thead th {\n",
       "        text-align: right;\n",
       "    }\n",
       "</style>\n",
       "<table border=\"1\" class=\"dataframe\">\n",
       "  <thead>\n",
       "    <tr style=\"text-align: right;\">\n",
       "      <th></th>\n",
       "      <th>hypothesis</th>\n",
       "      <th>reach</th>\n",
       "      <th>impact</th>\n",
       "      <th>confidence</th>\n",
       "      <th>effort</th>\n",
       "      <th>ice</th>\n",
       "      <th>rice</th>\n",
       "    </tr>\n",
       "  </thead>\n",
       "  <tbody>\n",
       "    <tr>\n",
       "      <th>7</th>\n",
       "      <td>Add a subscription form to all the main pages. This will help you compile a mailing list</td>\n",
       "      <td>10</td>\n",
       "      <td>7</td>\n",
       "      <td>8</td>\n",
       "      <td>5</td>\n",
       "      <td>11.20</td>\n",
       "      <td>112</td>\n",
       "    </tr>\n",
       "    <tr>\n",
       "      <th>2</th>\n",
       "      <td>Add product recommendation blocks to the store's site. This will increase conversion and average purchase size</td>\n",
       "      <td>8</td>\n",
       "      <td>3</td>\n",
       "      <td>7</td>\n",
       "      <td>3</td>\n",
       "      <td>7.00</td>\n",
       "      <td>56</td>\n",
       "    </tr>\n",
       "    <tr>\n",
       "      <th>0</th>\n",
       "      <td>Add two new channels for attracting traffic. This will bring 30% more users</td>\n",
       "      <td>3</td>\n",
       "      <td>10</td>\n",
       "      <td>8</td>\n",
       "      <td>6</td>\n",
       "      <td>13.33</td>\n",
       "      <td>40</td>\n",
       "    </tr>\n",
       "    <tr>\n",
       "      <th>6</th>\n",
       "      <td>Show banners with current offers and sales on the main page. This will boost conversion</td>\n",
       "      <td>5</td>\n",
       "      <td>3</td>\n",
       "      <td>8</td>\n",
       "      <td>3</td>\n",
       "      <td>8.00</td>\n",
       "      <td>40</td>\n",
       "    </tr>\n",
       "    <tr>\n",
       "      <th>8</th>\n",
       "      <td>Launch a promotion that gives users discounts on their birthdays</td>\n",
       "      <td>1</td>\n",
       "      <td>9</td>\n",
       "      <td>9</td>\n",
       "      <td>5</td>\n",
       "      <td>16.20</td>\n",
       "      <td>16</td>\n",
       "    </tr>\n",
       "    <tr>\n",
       "      <th>3</th>\n",
       "      <td>Change the category structure. This will increase conversion since users will find the products they want more quickly</td>\n",
       "      <td>8</td>\n",
       "      <td>3</td>\n",
       "      <td>3</td>\n",
       "      <td>8</td>\n",
       "      <td>1.12</td>\n",
       "      <td>9</td>\n",
       "    </tr>\n",
       "    <tr>\n",
       "      <th>1</th>\n",
       "      <td>Launch your own delivery service. This will shorten delivery time</td>\n",
       "      <td>2</td>\n",
       "      <td>5</td>\n",
       "      <td>4</td>\n",
       "      <td>10</td>\n",
       "      <td>2.00</td>\n",
       "      <td>4</td>\n",
       "    </tr>\n",
       "    <tr>\n",
       "      <th>5</th>\n",
       "      <td>Add a customer review page. This will increase the number of orders</td>\n",
       "      <td>3</td>\n",
       "      <td>2</td>\n",
       "      <td>2</td>\n",
       "      <td>3</td>\n",
       "      <td>1.33</td>\n",
       "      <td>4</td>\n",
       "    </tr>\n",
       "    <tr>\n",
       "      <th>4</th>\n",
       "      <td>Change the background color on the main page. This will increase user engagement</td>\n",
       "      <td>3</td>\n",
       "      <td>1</td>\n",
       "      <td>1</td>\n",
       "      <td>1</td>\n",
       "      <td>1.00</td>\n",
       "      <td>3</td>\n",
       "    </tr>\n",
       "  </tbody>\n",
       "</table>\n",
       "</div>"
      ],
      "text/plain": [
       "                                                                                                               hypothesis  \\\n",
       "7                                Add a subscription form to all the main pages. This will help you compile a mailing list   \n",
       "2          Add product recommendation blocks to the store's site. This will increase conversion and average purchase size   \n",
       "0                                             Add two new channels for attracting traffic. This will bring 30% more users   \n",
       "6                                 Show banners with current offers and sales on the main page. This will boost conversion   \n",
       "8                                                        Launch a promotion that gives users discounts on their birthdays   \n",
       "3  Change the category structure. This will increase conversion since users will find the products they want more quickly   \n",
       "1                                                       Launch your own delivery service. This will shorten delivery time   \n",
       "5                                                     Add a customer review page. This will increase the number of orders   \n",
       "4                                        Change the background color on the main page. This will increase user engagement   \n",
       "\n",
       "   reach  impact  confidence  effort    ice  rice  \n",
       "7     10       7           8       5  11.20   112  \n",
       "2      8       3           7       3   7.00    56  \n",
       "0      3      10           8       6  13.33    40  \n",
       "6      5       3           8       3   8.00    40  \n",
       "8      1       9           9       5  16.20    16  \n",
       "3      8       3           3       8   1.12     9  \n",
       "1      2       5           4      10   2.00     4  \n",
       "5      3       2           2       3   1.33     4  \n",
       "4      3       1           1       1   1.00     3  "
      ]
     },
     "execution_count": 7,
     "metadata": {},
     "output_type": "execute_result"
    }
   ],
   "source": [
    "hypotheses.sort_values(by = 'rice', ascending = False)"
   ]
  },
  {
   "cell_type": "markdown",
   "id": "5cda5873",
   "metadata": {},
   "source": [
    "#### <font color = 'blue'>Notes:</font>\n",
    "\n",
    "The top 3 hypotheses are:\n",
    "* Add a subscription form to all the main pages. This will help you compile a mailing list\n",
    "* Add product recommendation blocks to the store's site. This will increase conversion and average purchase size\n",
    "* Add two new channels for attracting traffic. This will bring 30% more users"
   ]
  },
  {
   "cell_type": "code",
   "execution_count": 8,
   "id": "a1134d24",
   "metadata": {},
   "outputs": [
    {
     "data": {
      "image/png": "[encoded data removed]",
      "text/plain": [
       "<Figure size 432x432 with 1 Axes>"
      ]
     },
     "metadata": {
      "needs_background": "light"
     },
     "output_type": "display_data"
    }
   ],
   "source": [
    "plt.figure(figsize = (6,6))\n",
    "ax = sns.scatterplot(data = hypotheses, x = 'ice', y = 'rice', hue = 'hypothesis')\n",
    "plt.legend(bbox_to_anchor=(1.05, 1), loc=2, borderaxespad=0.)\n",
    "plt.xlabel('ICE')\n",
    "plt.ylabel('RICE')\n",
    "plt.title('Comparison of ICE and RICE scores')\n",
    "plt.show()"
   ]
  },
  {
   "cell_type": "markdown",
   "id": "0d28b191",
   "metadata": {},
   "source": [
    "## 1.4 The Difference Between ICE and RICE: Conclusion"
   ]
  },
  {
   "cell_type": "markdown",
   "id": "855a1504",
   "metadata": {},
   "source": [
    "By the ICE framework, top 3 hypotheses are 8, 0 and 7.<br>\n",
    "But when we take the reach into account and evaluate the hypotheses according to the RICE framework, top 3 hypotheses are 7, 2 and 0. <br>\n",
    "Hypothesis 8, while having high (9 out of 10) scores for impact and confidence, has very low reach score (1/10) meaning it is estimated that very little number of users will be affected by such improvement. On the other hand, hypothesis 2, while having high reach score (7/10), has low impact (3/10) score, meaning while this improvement will reach many customers, it is not expected to affect their decisions significantly. \n",
    "\n",
    " [Return to table of contents ^^^](#Table-of-Contents)"
   ]
  },
  {
   "cell_type": "markdown",
   "id": "a373a880",
   "metadata": {},
   "source": [
    "# Part 2. A/B Test Analysis\n",
    "\n",
    "## Load and preprocess the data"
   ]
  },
  {
   "cell_type": "code",
   "execution_count": 9,
   "id": "8b8d0a3c",
   "metadata": {},
   "outputs": [],
   "source": [
    "try:\n",
    "    orders_raw = pd.read_csv('datasets/orders_us.csv', parse_dates = ['date'])\n",
    "    visits_raw = pd.read_csv('datasets/visits_us.csv', parse_dates = ['date'])\n",
    "except:\n",
    "    orders_raw = pd.read_csv('/datasets/orders_us.csv', parse_dates = ['date'])\n",
    "    visits_raw = pd.read_csv('/datasets/visits_us.csv', parse_dates = ['date'])    "
   ]
  },
  {
   "cell_type": "code",
   "execution_count": 10,
   "id": "7fa25dc4",
   "metadata": {},
   "outputs": [
    {
     "name": "stdout",
     "output_type": "stream",
     "text": [
      "<class 'pandas.core.frame.DataFrame'>\n",
      "RangeIndex: 1197 entries, 0 to 1196\n",
      "Data columns (total 5 columns):\n",
      " #   Column         Non-Null Count  Dtype         \n",
      "---  ------         --------------  -----         \n",
      " 0   transactionId  1197 non-null   int64         \n",
      " 1   visitorId      1197 non-null   int64         \n",
      " 2   date           1197 non-null   datetime64[ns]\n",
      " 3   revenue        1197 non-null   float64       \n",
      " 4   group          1197 non-null   object        \n",
      "dtypes: datetime64[ns](1), float64(1), int64(2), object(1)\n",
      "memory usage: 46.9+ KB\n",
      "None\n"
     ]
    },
    {
     "data": {
      "text/html": [
       "<div>\n",
       "<style scoped>\n",
       "    .dataframe tbody tr th:only-of-type {\n",
       "        vertical-align: middle;\n",
       "    }\n",
       "\n",
       "    .dataframe tbody tr th {\n",
       "        vertical-align: top;\n",
       "    }\n",
       "\n",
       "    .dataframe thead th {\n",
       "        text-align: right;\n",
       "    }\n",
       "</style>\n",
       "<table border=\"1\" class=\"dataframe\">\n",
       "  <thead>\n",
       "    <tr style=\"text-align: right;\">\n",
       "      <th></th>\n",
       "      <th>transactionId</th>\n",
       "      <th>visitorId</th>\n",
       "      <th>date</th>\n",
       "      <th>revenue</th>\n",
       "    </tr>\n",
       "  </thead>\n",
       "  <tbody>\n",
       "    <tr>\n",
       "      <th>count</th>\n",
       "      <td>1.197000e+03</td>\n",
       "      <td>1.197000e+03</td>\n",
       "      <td>1197</td>\n",
       "      <td>1197.000000</td>\n",
       "    </tr>\n",
       "    <tr>\n",
       "      <th>mean</th>\n",
       "      <td>2.155621e+09</td>\n",
       "      <td>2.165960e+09</td>\n",
       "      <td>2019-08-15 13:06:46.015037696</td>\n",
       "      <td>131.491646</td>\n",
       "    </tr>\n",
       "    <tr>\n",
       "      <th>min</th>\n",
       "      <td>1.062393e+06</td>\n",
       "      <td>5.114589e+06</td>\n",
       "      <td>2019-08-01 00:00:00</td>\n",
       "      <td>5.000000</td>\n",
       "    </tr>\n",
       "    <tr>\n",
       "      <th>25%</th>\n",
       "      <td>1.166776e+09</td>\n",
       "      <td>1.111826e+09</td>\n",
       "      <td>2019-08-08 00:00:00</td>\n",
       "      <td>20.800000</td>\n",
       "    </tr>\n",
       "    <tr>\n",
       "      <th>50%</th>\n",
       "      <td>2.145194e+09</td>\n",
       "      <td>2.217985e+09</td>\n",
       "      <td>2019-08-15 00:00:00</td>\n",
       "      <td>50.200000</td>\n",
       "    </tr>\n",
       "    <tr>\n",
       "      <th>75%</th>\n",
       "      <td>3.237740e+09</td>\n",
       "      <td>3.177606e+09</td>\n",
       "      <td>2019-08-23 00:00:00</td>\n",
       "      <td>130.400000</td>\n",
       "    </tr>\n",
       "    <tr>\n",
       "      <th>max</th>\n",
       "      <td>4.293856e+09</td>\n",
       "      <td>4.283872e+09</td>\n",
       "      <td>2019-08-31 00:00:00</td>\n",
       "      <td>19920.400000</td>\n",
       "    </tr>\n",
       "    <tr>\n",
       "      <th>std</th>\n",
       "      <td>1.229085e+09</td>\n",
       "      <td>1.236014e+09</td>\n",
       "      <td>NaN</td>\n",
       "      <td>603.004729</td>\n",
       "    </tr>\n",
       "  </tbody>\n",
       "</table>\n",
       "</div>"
      ],
      "text/plain": [
       "       transactionId     visitorId                           date  \\\n",
       "count   1.197000e+03  1.197000e+03                           1197   \n",
       "mean    2.155621e+09  2.165960e+09  2019-08-15 13:06:46.015037696   \n",
       "min     1.062393e+06  5.114589e+06            2019-08-01 00:00:00   \n",
       "25%     1.166776e+09  1.111826e+09            2019-08-08 00:00:00   \n",
       "50%     2.145194e+09  2.217985e+09            2019-08-15 00:00:00   \n",
       "75%     3.237740e+09  3.177606e+09            2019-08-23 00:00:00   \n",
       "max     4.293856e+09  4.283872e+09            2019-08-31 00:00:00   \n",
       "std     1.229085e+09  1.236014e+09                            NaN   \n",
       "\n",
       "            revenue  \n",
       "count   1197.000000  \n",
       "mean     131.491646  \n",
       "min        5.000000  \n",
       "25%       20.800000  \n",
       "50%       50.200000  \n",
       "75%      130.400000  \n",
       "max    19920.400000  \n",
       "std      603.004729  "
      ]
     },
     "execution_count": 10,
     "metadata": {},
     "output_type": "execute_result"
    }
   ],
   "source": [
    "print(orders_raw.info())\n",
    "\n",
    "orders_raw.describe(datetime_is_numeric=True)"
   ]
  },
  {
   "cell_type": "code",
   "execution_count": 11,
   "id": "bdaedf49",
   "metadata": {},
   "outputs": [
    {
     "name": "stdout",
     "output_type": "stream",
     "text": [
      "<class 'pandas.core.frame.DataFrame'>\n",
      "RangeIndex: 62 entries, 0 to 61\n",
      "Data columns (total 3 columns):\n",
      " #   Column  Non-Null Count  Dtype         \n",
      "---  ------  --------------  -----         \n",
      " 0   date    62 non-null     datetime64[ns]\n",
      " 1   group   62 non-null     object        \n",
      " 2   visits  62 non-null     int64         \n",
      "dtypes: datetime64[ns](1), int64(1), object(1)\n",
      "memory usage: 1.6+ KB\n",
      "None\n"
     ]
    },
    {
     "data": {
      "text/html": [
       "<div>\n",
       "<style scoped>\n",
       "    .dataframe tbody tr th:only-of-type {\n",
       "        vertical-align: middle;\n",
       "    }\n",
       "\n",
       "    .dataframe tbody tr th {\n",
       "        vertical-align: top;\n",
       "    }\n",
       "\n",
       "    .dataframe thead th {\n",
       "        text-align: right;\n",
       "    }\n",
       "</style>\n",
       "<table border=\"1\" class=\"dataframe\">\n",
       "  <thead>\n",
       "    <tr style=\"text-align: right;\">\n",
       "      <th></th>\n",
       "      <th>date</th>\n",
       "      <th>visits</th>\n",
       "    </tr>\n",
       "  </thead>\n",
       "  <tbody>\n",
       "    <tr>\n",
       "      <th>count</th>\n",
       "      <td>62</td>\n",
       "      <td>62.000000</td>\n",
       "    </tr>\n",
       "    <tr>\n",
       "      <th>mean</th>\n",
       "      <td>2019-08-16 00:00:00</td>\n",
       "      <td>607.290323</td>\n",
       "    </tr>\n",
       "    <tr>\n",
       "      <th>min</th>\n",
       "      <td>2019-08-01 00:00:00</td>\n",
       "      <td>361.000000</td>\n",
       "    </tr>\n",
       "    <tr>\n",
       "      <th>25%</th>\n",
       "      <td>2019-08-08 06:00:00</td>\n",
       "      <td>534.000000</td>\n",
       "    </tr>\n",
       "    <tr>\n",
       "      <th>50%</th>\n",
       "      <td>2019-08-16 00:00:00</td>\n",
       "      <td>624.500000</td>\n",
       "    </tr>\n",
       "    <tr>\n",
       "      <th>75%</th>\n",
       "      <td>2019-08-23 18:00:00</td>\n",
       "      <td>710.500000</td>\n",
       "    </tr>\n",
       "    <tr>\n",
       "      <th>max</th>\n",
       "      <td>2019-08-31 00:00:00</td>\n",
       "      <td>770.000000</td>\n",
       "    </tr>\n",
       "    <tr>\n",
       "      <th>std</th>\n",
       "      <td>NaN</td>\n",
       "      <td>114.400560</td>\n",
       "    </tr>\n",
       "  </tbody>\n",
       "</table>\n",
       "</div>"
      ],
      "text/plain": [
       "                      date      visits\n",
       "count                   62   62.000000\n",
       "mean   2019-08-16 00:00:00  607.290323\n",
       "min    2019-08-01 00:00:00  361.000000\n",
       "25%    2019-08-08 06:00:00  534.000000\n",
       "50%    2019-08-16 00:00:00  624.500000\n",
       "75%    2019-08-23 18:00:00  710.500000\n",
       "max    2019-08-31 00:00:00  770.000000\n",
       "std                    NaN  114.400560"
      ]
     },
     "execution_count": 11,
     "metadata": {},
     "output_type": "execute_result"
    }
   ],
   "source": [
    "print(visits_raw.info())\n",
    "\n",
    "visits_raw.describe(datetime_is_numeric=True)"
   ]
  },
  {
   "cell_type": "code",
   "execution_count": 12,
   "id": "b85e9124",
   "metadata": {},
   "outputs": [],
   "source": [
    "orders_raw = orders_raw.rename(columns = {'transactionId':'transaction_id', 'visitorId':'visitor_id'})"
   ]
  },
  {
   "cell_type": "code",
   "execution_count": 13,
   "id": "f56b1d50",
   "metadata": {},
   "outputs": [
    {
     "data": {
      "text/html": [
       "<div>\n",
       "<style scoped>\n",
       "    .dataframe tbody tr th:only-of-type {\n",
       "        vertical-align: middle;\n",
       "    }\n",
       "\n",
       "    .dataframe tbody tr th {\n",
       "        vertical-align: top;\n",
       "    }\n",
       "\n",
       "    .dataframe thead th {\n",
       "        text-align: right;\n",
       "    }\n",
       "</style>\n",
       "<table border=\"1\" class=\"dataframe\">\n",
       "  <thead>\n",
       "    <tr style=\"text-align: right;\">\n",
       "      <th></th>\n",
       "      <th>transaction_id</th>\n",
       "      <th>visitor_id</th>\n",
       "      <th>date</th>\n",
       "      <th>revenue</th>\n",
       "      <th>group</th>\n",
       "    </tr>\n",
       "  </thead>\n",
       "  <tbody>\n",
       "    <tr>\n",
       "      <th>0</th>\n",
       "      <td>3667963787</td>\n",
       "      <td>3312258926</td>\n",
       "      <td>2019-08-15</td>\n",
       "      <td>30.4</td>\n",
       "      <td>B</td>\n",
       "    </tr>\n",
       "    <tr>\n",
       "      <th>1</th>\n",
       "      <td>2804400009</td>\n",
       "      <td>3642806036</td>\n",
       "      <td>2019-08-15</td>\n",
       "      <td>15.2</td>\n",
       "      <td>B</td>\n",
       "    </tr>\n",
       "    <tr>\n",
       "      <th>2</th>\n",
       "      <td>2961555356</td>\n",
       "      <td>4069496402</td>\n",
       "      <td>2019-08-15</td>\n",
       "      <td>10.2</td>\n",
       "      <td>A</td>\n",
       "    </tr>\n",
       "  </tbody>\n",
       "</table>\n",
       "</div>"
      ],
      "text/plain": [
       "   transaction_id  visitor_id       date  revenue group\n",
       "0      3667963787  3312258926 2019-08-15     30.4     B\n",
       "1      2804400009  3642806036 2019-08-15     15.2     B\n",
       "2      2961555356  4069496402 2019-08-15     10.2     A"
      ]
     },
     "execution_count": 13,
     "metadata": {},
     "output_type": "execute_result"
    }
   ],
   "source": [
    "orders_raw.head(3)"
   ]
  },
  {
   "cell_type": "code",
   "execution_count": 14,
   "id": "a2bc1b04",
   "metadata": {},
   "outputs": [
    {
     "data": {
      "text/html": [
       "<div>\n",
       "<style scoped>\n",
       "    .dataframe tbody tr th:only-of-type {\n",
       "        vertical-align: middle;\n",
       "    }\n",
       "\n",
       "    .dataframe tbody tr th {\n",
       "        vertical-align: top;\n",
       "    }\n",
       "\n",
       "    .dataframe thead th {\n",
       "        text-align: right;\n",
       "    }\n",
       "</style>\n",
       "<table border=\"1\" class=\"dataframe\">\n",
       "  <thead>\n",
       "    <tr style=\"text-align: right;\">\n",
       "      <th></th>\n",
       "      <th>date</th>\n",
       "      <th>group</th>\n",
       "      <th>visits</th>\n",
       "    </tr>\n",
       "  </thead>\n",
       "  <tbody>\n",
       "    <tr>\n",
       "      <th>0</th>\n",
       "      <td>2019-08-01</td>\n",
       "      <td>A</td>\n",
       "      <td>719</td>\n",
       "    </tr>\n",
       "    <tr>\n",
       "      <th>1</th>\n",
       "      <td>2019-08-02</td>\n",
       "      <td>A</td>\n",
       "      <td>619</td>\n",
       "    </tr>\n",
       "    <tr>\n",
       "      <th>2</th>\n",
       "      <td>2019-08-03</td>\n",
       "      <td>A</td>\n",
       "      <td>507</td>\n",
       "    </tr>\n",
       "  </tbody>\n",
       "</table>\n",
       "</div>"
      ],
      "text/plain": [
       "        date group  visits\n",
       "0 2019-08-01     A     719\n",
       "1 2019-08-02     A     619\n",
       "2 2019-08-03     A     507"
      ]
     },
     "execution_count": 14,
     "metadata": {},
     "output_type": "execute_result"
    }
   ],
   "source": [
    "visits_raw.head(3)"
   ]
  },
  {
   "cell_type": "code",
   "execution_count": 15,
   "id": "d0eed3e0",
   "metadata": {},
   "outputs": [
    {
     "name": "stdout",
     "output_type": "stream",
     "text": [
      "Number of duplicated rows in orders dataframe is: 0\n",
      "Number of duplicated rows in visits dataframe is: 0\n"
     ]
    }
   ],
   "source": [
    "# check for duplicates:\n",
    "print('Number of duplicated rows in orders dataframe is:', orders_raw.duplicated().sum())\n",
    "print('Number of duplicated rows in visits dataframe is:', visits_raw.duplicated().sum())"
   ]
  },
  {
   "cell_type": "code",
   "execution_count": 16,
   "id": "f3b704d7",
   "metadata": {},
   "outputs": [
    {
     "data": {
      "text/plain": [
       "0"
      ]
     },
     "execution_count": 16,
     "metadata": {},
     "output_type": "execute_result"
    }
   ],
   "source": [
    "# check for duplicated transactions:\n",
    "orders_raw.transaction_id.duplicated().sum()"
   ]
  },
  {
   "cell_type": "code",
   "execution_count": 17,
   "id": "4bcd8473",
   "metadata": {},
   "outputs": [
    {
     "name": "stdout",
     "output_type": "stream",
     "text": [
      "Group A size is 557\n",
      "Group B size is 640\n"
     ]
    }
   ],
   "source": [
    "# check group sizes:\n",
    "print('Group A size is {}'.format(len(orders_raw.query('group == \"A\"'))))\n",
    "print('Group B size is {}'.format(len(orders_raw.query('group == \"B\"'))))"
   ]
  },
  {
   "cell_type": "code",
   "execution_count": 18,
   "id": "7612e5c9",
   "metadata": {},
   "outputs": [
    {
     "data": {
      "text/plain": [
       "0.8703125"
      ]
     },
     "execution_count": 18,
     "metadata": {},
     "output_type": "execute_result"
    }
   ],
   "source": [
    "# ratio between group sizes:\n",
    "len(orders_raw.query('group == \"A\"')) / len(orders_raw.query('group == \"B\"')) "
   ]
  },
  {
   "cell_type": "code",
   "execution_count": 19,
   "id": "1d111632",
   "metadata": {},
   "outputs": [
    {
     "name": "stdout",
     "output_type": "stream",
     "text": [
      "Total users appearing in both groups: 89\n",
      "Share of users appearing in both groups: 7.44%\n"
     ]
    }
   ],
   "source": [
    "# check how many users appear in both groups:\n",
    "print('Total users appearing in both groups: {}'.format(\n",
    "    len(orders_raw[(orders_raw['group'] == 'A') & \n",
    "                   (orders_raw['visitor_id'].isin(orders_raw[orders_raw['group'] == 'B']['visitor_id']))])))\n",
    "\n",
    "print('Share of users appearing in both groups: {:.2%}'.format(\n",
    "    len(orders_raw[(orders_raw['group'] == 'A') & \n",
    "                   (orders_raw['visitor_id'].isin(orders_raw[orders_raw['group'] == 'B']['visitor_id']))]) / \n",
    "    len(orders_raw)))\n"
   ]
  },
  {
   "cell_type": "code",
   "execution_count": 20,
   "id": "776c4f4b",
   "metadata": {},
   "outputs": [],
   "source": [
    "duplicated_users = orders_raw[(orders_raw['group'] == 'A') & \n",
    "                   (orders_raw['visitor_id'].isin(orders_raw[orders_raw['group'] == 'B']['visitor_id']))]['visitor_id']"
   ]
  },
  {
   "cell_type": "code",
   "execution_count": 21,
   "id": "3913db31",
   "metadata": {},
   "outputs": [
    {
     "name": "stdout",
     "output_type": "stream",
     "text": [
      "<class 'pandas.core.frame.DataFrame'>\n",
      "Int64Index: 1016 entries, 0 to 1196\n",
      "Data columns (total 5 columns):\n",
      " #   Column          Non-Null Count  Dtype         \n",
      "---  ------          --------------  -----         \n",
      " 0   transaction_id  1016 non-null   int64         \n",
      " 1   visitor_id      1016 non-null   int64         \n",
      " 2   date            1016 non-null   datetime64[ns]\n",
      " 3   revenue         1016 non-null   float64       \n",
      " 4   group           1016 non-null   object        \n",
      "dtypes: datetime64[ns](1), float64(1), int64(2), object(1)\n",
      "memory usage: 47.6+ KB\n"
     ]
    }
   ],
   "source": [
    "# drop rows with visitors belonging to both groups:\n",
    "orders_raw = orders_raw.query('visitor_id not in @duplicated_users')\n",
    "orders_raw.info()"
   ]
  },
  {
   "cell_type": "markdown",
   "id": "59f382c6",
   "metadata": {},
   "source": [
    "#### <font color = 'blue'>Notes:</font>\n",
    "\n",
    "In this section I preprocessed the data and checked it for possible mistakes, with following results:\n",
    "* The columns with upper string were renamed.\n",
    "* Datetime columns were converted to the right type.\n",
    "* There was no missing values and duplicated rows.\n",
    "* The size of group A is smaller than the size of group B (their ratio is 0.87).\n",
    "* 7.44% of visitors belonged to both groups and I removed them from the dataset.\n",
    "\n",
    "[Return to table of contents ^^^](#Table-of-Contents)"
   ]
  },
  {
   "cell_type": "markdown",
   "id": "2d58712f",
   "metadata": {},
   "source": [
    "## 2.1 Graph cumulative revenue by group. Make conclusions and conjectures."
   ]
  },
  {
   "cell_type": "code",
   "execution_count": 22,
   "id": "381fe456",
   "metadata": {},
   "outputs": [
    {
     "data": {
      "text/html": [
       "<div>\n",
       "<style scoped>\n",
       "    .dataframe tbody tr th:only-of-type {\n",
       "        vertical-align: middle;\n",
       "    }\n",
       "\n",
       "    .dataframe tbody tr th {\n",
       "        vertical-align: top;\n",
       "    }\n",
       "\n",
       "    .dataframe thead th {\n",
       "        text-align: right;\n",
       "    }\n",
       "</style>\n",
       "<table border=\"1\" class=\"dataframe\">\n",
       "  <thead>\n",
       "    <tr style=\"text-align: right;\">\n",
       "      <th></th>\n",
       "      <th>date</th>\n",
       "      <th>group</th>\n",
       "      <th>orders</th>\n",
       "      <th>buyers</th>\n",
       "      <th>revenue</th>\n",
       "      <th>visits</th>\n",
       "    </tr>\n",
       "  </thead>\n",
       "  <tbody>\n",
       "    <tr>\n",
       "      <th>0</th>\n",
       "      <td>2019-08-01</td>\n",
       "      <td>A</td>\n",
       "      <td>23</td>\n",
       "      <td>19</td>\n",
       "      <td>2266.6</td>\n",
       "      <td>719</td>\n",
       "    </tr>\n",
       "    <tr>\n",
       "      <th>1</th>\n",
       "      <td>2019-08-01</td>\n",
       "      <td>B</td>\n",
       "      <td>17</td>\n",
       "      <td>17</td>\n",
       "      <td>967.2</td>\n",
       "      <td>713</td>\n",
       "    </tr>\n",
       "    <tr>\n",
       "      <th>2</th>\n",
       "      <td>2019-08-02</td>\n",
       "      <td>A</td>\n",
       "      <td>42</td>\n",
       "      <td>36</td>\n",
       "      <td>3734.9</td>\n",
       "      <td>619</td>\n",
       "    </tr>\n",
       "    <tr>\n",
       "      <th>3</th>\n",
       "      <td>2019-08-02</td>\n",
       "      <td>B</td>\n",
       "      <td>40</td>\n",
       "      <td>39</td>\n",
       "      <td>3535.3</td>\n",
       "      <td>581</td>\n",
       "    </tr>\n",
       "    <tr>\n",
       "      <th>4</th>\n",
       "      <td>2019-08-03</td>\n",
       "      <td>A</td>\n",
       "      <td>66</td>\n",
       "      <td>60</td>\n",
       "      <td>5550.1</td>\n",
       "      <td>507</td>\n",
       "    </tr>\n",
       "  </tbody>\n",
       "</table>\n",
       "</div>"
      ],
      "text/plain": [
       "        date group  orders  buyers  revenue  visits\n",
       "0 2019-08-01     A      23      19   2266.6     719\n",
       "1 2019-08-01     B      17      17    967.2     713\n",
       "2 2019-08-02     A      42      36   3734.9     619\n",
       "3 2019-08-02     B      40      39   3535.3     581\n",
       "4 2019-08-03     A      66      60   5550.1     507"
      ]
     },
     "execution_count": 22,
     "metadata": {},
     "output_type": "execute_result"
    }
   ],
   "source": [
    "# make cumulative data table\n",
    "\n",
    "# build an array with unique paired date-group values:\n",
    "dates_groups = orders_raw[['date', 'group']].drop_duplicates()\n",
    "\n",
    "# get an aggregated cumulative daily data on orders:\n",
    "orders_aggregated = dates_groups.apply(\n",
    "    lambda x: orders_raw[np.logical_and(orders_raw['date'] <= x['date'], orders_raw['group'] == x['group']\n",
    "                                       )].agg({\n",
    "        'date' : 'max', \n",
    "        'group' : 'max', \n",
    "        'transaction_id' : pd.Series.nunique, \n",
    "        'visitor_id' : pd.Series.nunique, \n",
    "        'revenue' : 'sum'\n",
    "    }), axis=1).sort_values(by=['date','group'])\n",
    "\n",
    "orders_aggregated = orders_aggregated.merge(visits_raw, on = ['date', 'group'])\n",
    "\n",
    "orders_aggregated.columns = ['date', 'group', 'orders', 'buyers', 'revenue', 'visits']\n",
    "\n",
    "orders_aggregated.head()"
   ]
  },
  {
   "cell_type": "code",
   "execution_count": 23,
   "id": "aad888ff",
   "metadata": {},
   "outputs": [],
   "source": [
    "# split groups A and B into two separate datasets:\n",
    "\n",
    "orders_a = orders_aggregated.query('group == \"A\"').sort_values(by = 'date').reset_index()\n",
    "orders_b = orders_aggregated.query('group == \"B\"').sort_values(by = 'date').reset_index()"
   ]
  },
  {
   "cell_type": "code",
   "execution_count": 24,
   "id": "3c0ef861",
   "metadata": {},
   "outputs": [
    {
     "data": {
      "text/html": [
       "<div>\n",
       "<style scoped>\n",
       "    .dataframe tbody tr th:only-of-type {\n",
       "        vertical-align: middle;\n",
       "    }\n",
       "\n",
       "    .dataframe tbody tr th {\n",
       "        vertical-align: top;\n",
       "    }\n",
       "\n",
       "    .dataframe thead th {\n",
       "        text-align: right;\n",
       "    }\n",
       "</style>\n",
       "<table border=\"1\" class=\"dataframe\">\n",
       "  <thead>\n",
       "    <tr style=\"text-align: right;\">\n",
       "      <th></th>\n",
       "      <th>index</th>\n",
       "      <th>date</th>\n",
       "      <th>group</th>\n",
       "      <th>orders</th>\n",
       "      <th>buyers</th>\n",
       "      <th>revenue</th>\n",
       "      <th>visits</th>\n",
       "    </tr>\n",
       "  </thead>\n",
       "  <tbody>\n",
       "    <tr>\n",
       "      <th>0</th>\n",
       "      <td>0</td>\n",
       "      <td>2019-08-01</td>\n",
       "      <td>A</td>\n",
       "      <td>23</td>\n",
       "      <td>19</td>\n",
       "      <td>2266.6</td>\n",
       "      <td>719</td>\n",
       "    </tr>\n",
       "    <tr>\n",
       "      <th>1</th>\n",
       "      <td>2</td>\n",
       "      <td>2019-08-02</td>\n",
       "      <td>A</td>\n",
       "      <td>42</td>\n",
       "      <td>36</td>\n",
       "      <td>3734.9</td>\n",
       "      <td>619</td>\n",
       "    </tr>\n",
       "    <tr>\n",
       "      <th>2</th>\n",
       "      <td>4</td>\n",
       "      <td>2019-08-03</td>\n",
       "      <td>A</td>\n",
       "      <td>66</td>\n",
       "      <td>60</td>\n",
       "      <td>5550.1</td>\n",
       "      <td>507</td>\n",
       "    </tr>\n",
       "    <tr>\n",
       "      <th>3</th>\n",
       "      <td>6</td>\n",
       "      <td>2019-08-04</td>\n",
       "      <td>A</td>\n",
       "      <td>77</td>\n",
       "      <td>71</td>\n",
       "      <td>6225.6</td>\n",
       "      <td>717</td>\n",
       "    </tr>\n",
       "    <tr>\n",
       "      <th>4</th>\n",
       "      <td>8</td>\n",
       "      <td>2019-08-05</td>\n",
       "      <td>A</td>\n",
       "      <td>99</td>\n",
       "      <td>92</td>\n",
       "      <td>7623.6</td>\n",
       "      <td>756</td>\n",
       "    </tr>\n",
       "  </tbody>\n",
       "</table>\n",
       "</div>"
      ],
      "text/plain": [
       "   index       date group  orders  buyers  revenue  visits\n",
       "0      0 2019-08-01     A      23      19   2266.6     719\n",
       "1      2 2019-08-02     A      42      36   3734.9     619\n",
       "2      4 2019-08-03     A      66      60   5550.1     507\n",
       "3      6 2019-08-04     A      77      71   6225.6     717\n",
       "4      8 2019-08-05     A      99      92   7623.6     756"
      ]
     },
     "execution_count": 24,
     "metadata": {},
     "output_type": "execute_result"
    }
   ],
   "source": [
    "orders_a.head()"
   ]
  },
  {
   "cell_type": "code",
   "execution_count": 25,
   "id": "2b97fd8d",
   "metadata": {},
   "outputs": [
    {
     "data": {
      "text/html": [
       "<div>\n",
       "<style scoped>\n",
       "    .dataframe tbody tr th:only-of-type {\n",
       "        vertical-align: middle;\n",
       "    }\n",
       "\n",
       "    .dataframe tbody tr th {\n",
       "        vertical-align: top;\n",
       "    }\n",
       "\n",
       "    .dataframe thead th {\n",
       "        text-align: right;\n",
       "    }\n",
       "</style>\n",
       "<table border=\"1\" class=\"dataframe\">\n",
       "  <thead>\n",
       "    <tr style=\"text-align: right;\">\n",
       "      <th></th>\n",
       "      <th>index</th>\n",
       "      <th>date</th>\n",
       "      <th>group</th>\n",
       "      <th>orders</th>\n",
       "      <th>buyers</th>\n",
       "      <th>revenue</th>\n",
       "      <th>visits</th>\n",
       "    </tr>\n",
       "  </thead>\n",
       "  <tbody>\n",
       "    <tr>\n",
       "      <th>0</th>\n",
       "      <td>1</td>\n",
       "      <td>2019-08-01</td>\n",
       "      <td>B</td>\n",
       "      <td>17</td>\n",
       "      <td>17</td>\n",
       "      <td>967.2</td>\n",
       "      <td>713</td>\n",
       "    </tr>\n",
       "    <tr>\n",
       "      <th>1</th>\n",
       "      <td>3</td>\n",
       "      <td>2019-08-02</td>\n",
       "      <td>B</td>\n",
       "      <td>40</td>\n",
       "      <td>39</td>\n",
       "      <td>3535.3</td>\n",
       "      <td>581</td>\n",
       "    </tr>\n",
       "    <tr>\n",
       "      <th>2</th>\n",
       "      <td>5</td>\n",
       "      <td>2019-08-03</td>\n",
       "      <td>B</td>\n",
       "      <td>54</td>\n",
       "      <td>53</td>\n",
       "      <td>4606.9</td>\n",
       "      <td>509</td>\n",
       "    </tr>\n",
       "    <tr>\n",
       "      <th>3</th>\n",
       "      <td>7</td>\n",
       "      <td>2019-08-04</td>\n",
       "      <td>B</td>\n",
       "      <td>68</td>\n",
       "      <td>66</td>\n",
       "      <td>6138.5</td>\n",
       "      <td>770</td>\n",
       "    </tr>\n",
       "    <tr>\n",
       "      <th>4</th>\n",
       "      <td>9</td>\n",
       "      <td>2019-08-05</td>\n",
       "      <td>B</td>\n",
       "      <td>89</td>\n",
       "      <td>87</td>\n",
       "      <td>7587.8</td>\n",
       "      <td>707</td>\n",
       "    </tr>\n",
       "  </tbody>\n",
       "</table>\n",
       "</div>"
      ],
      "text/plain": [
       "   index       date group  orders  buyers  revenue  visits\n",
       "0      1 2019-08-01     B      17      17    967.2     713\n",
       "1      3 2019-08-02     B      40      39   3535.3     581\n",
       "2      5 2019-08-03     B      54      53   4606.9     509\n",
       "3      7 2019-08-04     B      68      66   6138.5     770\n",
       "4      9 2019-08-05     B      89      87   7587.8     707"
      ]
     },
     "execution_count": 25,
     "metadata": {},
     "output_type": "execute_result"
    }
   ],
   "source": [
    "orders_b.head()"
   ]
  },
  {
   "cell_type": "code",
   "execution_count": 26,
   "id": "2bb91e83",
   "metadata": {
    "scrolled": false
   },
   "outputs": [
    {
     "data": {
      "image/png": "[encoded data removed]",
      "text/plain": [
       "<Figure size 720x432 with 1 Axes>"
      ]
     },
     "metadata": {
      "needs_background": "light"
     },
     "output_type": "display_data"
    }
   ],
   "source": [
    "plt.rcParams[\"figure.figsize\"] = (10,6)\n",
    "plt.plot(orders_a['date'].to_numpy(), orders_a['revenue'], label='Group A')\n",
    "plt.plot(orders_b['date'].to_numpy(), orders_b['revenue'], label='Group B')\n",
    "plt.xlabel('Date')\n",
    "plt.ylabel('Revenue')\n",
    "plt.title('Cumulative revenue by group')\n",
    "plt.legend()\n",
    "plt.grid()\n",
    "plt.show()"
   ]
  },
  {
   "cell_type": "markdown",
   "id": "5e7d74ce",
   "metadata": {},
   "source": [
    "#### <font color = 'blue'>Notes:</font>\n",
    "\n",
    "* For the most time group B's revenue is higher.\n",
    "* There can be seen a small peak for group A in 13.8 and a high rise for group B in 19.8, which could be result of some unusually high orders (outliers).\n",
    "\n",
    "[Return to table of contents ^^^](#Table-of-Contents)"
   ]
  },
  {
   "cell_type": "markdown",
   "id": "abb40243",
   "metadata": {},
   "source": [
    "## 2.2 Graph cumulative average order size by group. Make conclusions and conjectures."
   ]
  },
  {
   "cell_type": "code",
   "execution_count": 27,
   "id": "daf50ed2",
   "metadata": {},
   "outputs": [],
   "source": [
    "orders_a['avg_order'] = orders_a['revenue'] / orders_a['orders']\n",
    "orders_b['avg_order'] = orders_b['revenue'] / orders_b['orders']"
   ]
  },
  {
   "cell_type": "code",
   "execution_count": 28,
   "id": "617e5ea5",
   "metadata": {},
   "outputs": [
    {
     "data": {
      "image/png": "[encoded data removed]",
      "text/plain": [
       "<Figure size 720x432 with 1 Axes>"
      ]
     },
     "metadata": {
      "needs_background": "light"
     },
     "output_type": "display_data"
    }
   ],
   "source": [
    "plt.rcParams[\"figure.figsize\"] = (10,6)\n",
    "plt.plot(orders_a['date'], orders_a['avg_order'], label='Group A')\n",
    "plt.plot(orders_b['date'], orders_b['avg_order'], label='Group B')\n",
    "plt.xlabel('Date')\n",
    "plt.ylabel('Average revenue')\n",
    "plt.title('Cumulative average order size by group')\n",
    "plt.legend()\n",
    "plt.grid()\n",
    "plt.show()"
   ]
  },
  {
   "cell_type": "markdown",
   "id": "cca70862",
   "metadata": {},
   "source": [
    "#### <font color = 'blue'>Notes:</font>\n",
    "\n",
    "* Group B's average revenue stabilized high above group A's at 19.8.\n",
    "* There can be same irregularities in both graphs which may be explained by outliers.\n",
    "\n",
    "[Return to table of contents ^^^](#Table-of-Contents)"
   ]
  },
  {
   "cell_type": "markdown",
   "id": "46006fd6",
   "metadata": {},
   "source": [
    "## 2.3 Relative difference\n",
    "### Graph the relative difference in cumulative average order size for group B compared with group A. Make conclusions and conjectures."
   ]
  },
  {
   "cell_type": "code",
   "execution_count": 29,
   "id": "51dc5e9f",
   "metadata": {},
   "outputs": [
    {
     "data": {
      "image/png": "[encoded data removed]",
      "text/plain": [
       "<Figure size 720x432 with 1 Axes>"
      ]
     },
     "metadata": {
      "needs_background": "light"
     },
     "output_type": "display_data"
    }
   ],
   "source": [
    "plt.rcParams[\"figure.figsize\"] = (10,6)\n",
    "plt.plot(orders_a['date'], (orders_b['avg_order'] / orders_a['avg_order'] - 1))\n",
    "plt.xlabel('Date')\n",
    "plt.ylabel('Relative difference')\n",
    "plt.title('Relative difference in cumulative average order size')\n",
    "plt.axhline(y=0, color='black', linestyle='--') \n",
    "plt.grid()\n",
    "plt.show()"
   ]
  },
  {
   "cell_type": "markdown",
   "id": "4d89bf6d",
   "metadata": {},
   "source": [
    "#### <font color = 'blue'>Notes:</font>\n",
    "\n",
    "* For the most part cumulative difference is positive, meaning that average orders in group B are larger. \n",
    "* At two points the difference between groups spikes, which points at possible outliers.\n",
    "\n",
    "[Return to table of contents ^^^](#Table-of-Contents)"
   ]
  },
  {
   "cell_type": "markdown",
   "id": "9c602512",
   "metadata": {},
   "source": [
    "## 2.4 Conversion rates\n",
    "### Calculate each group's conversion rate as the ratio of orders to the number of visits for each day. Plot the daily conversion rates of the two groups and describe the difference. Draw conclusions and make conjectures.\n"
   ]
  },
  {
   "cell_type": "code",
   "execution_count": 30,
   "id": "1fd088b9",
   "metadata": {},
   "outputs": [],
   "source": [
    "# add cumulative visits count:\n",
    "orders_a['cumul_visits'] = orders_a['visits'].cumsum()\n",
    "orders_b['cumul_visits'] = orders_b['visits'].cumsum()"
   ]
  },
  {
   "cell_type": "code",
   "execution_count": 31,
   "id": "8d53f475",
   "metadata": {},
   "outputs": [],
   "source": [
    "# add conversion columns:\n",
    "orders_a['conversion'] = (orders_a['buyers'] / orders_a['cumul_visits']).round(3)\n",
    "orders_b['conversion'] = (orders_b['buyers'] / orders_b['cumul_visits']).round(3)"
   ]
  },
  {
   "cell_type": "code",
   "execution_count": 32,
   "id": "3c017f35",
   "metadata": {},
   "outputs": [
    {
     "data": {
      "image/png": "[encoded data removed]",
      "text/plain": [
       "<Figure size 720x432 with 1 Axes>"
      ]
     },
     "metadata": {
      "needs_background": "light"
     },
     "output_type": "display_data"
    }
   ],
   "source": [
    "plt.rcParams[\"figure.figsize\"] = (10,6)\n",
    "plt.plot(orders_a['date'], orders_a['conversion'], label='Group A')\n",
    "plt.plot(orders_b['date'], orders_b['conversion'], label='Group B')\n",
    "plt.xlabel('Date')\n",
    "plt.ylabel('Conversion rate')\n",
    "plt.title('Cumulative daily conversion by groups')\n",
    "plt.legend()\n",
    "plt.grid()\n",
    "plt.show()"
   ]
  },
  {
   "cell_type": "markdown",
   "id": "9404c180",
   "metadata": {},
   "source": [
    "#### <font color = 'blue'>Notes:</font>\n",
    "\n",
    "* For the most time group B's conversion rates are higher.\n",
    "\n",
    "[Return to table of contents ^^^](#Table-of-Contents)"
   ]
  },
  {
   "cell_type": "markdown",
   "id": "bebfc750",
   "metadata": {},
   "source": [
    "## 2.5 Orders per User\n",
    "### Plot a scatter chart of the number of orders per user. Make conclusions and conjectures.\n"
   ]
  },
  {
   "cell_type": "code",
   "execution_count": 33,
   "id": "d481316c",
   "metadata": {},
   "outputs": [
    {
     "data": {
      "text/html": [
       "<div>\n",
       "<style scoped>\n",
       "    .dataframe tbody tr th:only-of-type {\n",
       "        vertical-align: middle;\n",
       "    }\n",
       "\n",
       "    .dataframe tbody tr th {\n",
       "        vertical-align: top;\n",
       "    }\n",
       "\n",
       "    .dataframe thead th {\n",
       "        text-align: right;\n",
       "    }\n",
       "</style>\n",
       "<table border=\"1\" class=\"dataframe\">\n",
       "  <thead>\n",
       "    <tr style=\"text-align: right;\">\n",
       "      <th></th>\n",
       "      <th>visitor_id</th>\n",
       "      <th>orders</th>\n",
       "      <th>group</th>\n",
       "    </tr>\n",
       "  </thead>\n",
       "  <tbody>\n",
       "    <tr>\n",
       "      <th>908</th>\n",
       "      <td>3967698036</td>\n",
       "      <td>3</td>\n",
       "      <td>A</td>\n",
       "    </tr>\n",
       "    <tr>\n",
       "      <th>55</th>\n",
       "      <td>249864742</td>\n",
       "      <td>3</td>\n",
       "      <td>B</td>\n",
       "    </tr>\n",
       "    <tr>\n",
       "      <th>478</th>\n",
       "      <td>2108163459</td>\n",
       "      <td>3</td>\n",
       "      <td>A</td>\n",
       "    </tr>\n",
       "    <tr>\n",
       "      <th>687</th>\n",
       "      <td>2988190573</td>\n",
       "      <td>3</td>\n",
       "      <td>A</td>\n",
       "    </tr>\n",
       "    <tr>\n",
       "      <th>890</th>\n",
       "      <td>3908431265</td>\n",
       "      <td>3</td>\n",
       "      <td>A</td>\n",
       "    </tr>\n",
       "  </tbody>\n",
       "</table>\n",
       "</div>"
      ],
      "text/plain": [
       "     visitor_id  orders group\n",
       "908  3967698036       3     A\n",
       "55    249864742       3     B\n",
       "478  2108163459       3     A\n",
       "687  2988190573       3     A\n",
       "890  3908431265       3     A"
      ]
     },
     "execution_count": 33,
     "metadata": {},
     "output_type": "execute_result"
    }
   ],
   "source": [
    "orders_by_user = orders_raw.drop(['date', 'revenue'], axis = 1).groupby('visitor_id', as_index = False).agg({\n",
    "    'transaction_id': pd.Series.nunique, 'group':'first'})\n",
    "\n",
    "orders_by_user.columns = ['visitor_id', 'orders','group']\n",
    "\n",
    "orders_by_user.sort_values('orders', ascending = False).head()"
   ]
  },
  {
   "cell_type": "code",
   "execution_count": 34,
   "id": "68044853",
   "metadata": {},
   "outputs": [
    {
     "data": {
      "image/png": "[encoded data removed]",
      "text/plain": [
       "<Figure size 720x432 with 1 Axes>"
      ]
     },
     "metadata": {
      "needs_background": "light"
     },
     "output_type": "display_data"
    }
   ],
   "source": [
    "x_values_a = pd.Series(range(0, len(orders_by_user.query('group == \"A\"'))))\n",
    "x_values_b = pd.Series(range(0, len(orders_by_user.query('group == \"B\"'))))\n",
    "\n",
    "\n",
    "plt.scatter(x_values_a, orders_by_user.query('group == \"A\"')['orders'], c = 'red', label = 'Group A')\n",
    "plt.scatter(x_values_b, orders_by_user.query('group == \"B\"')['orders'], c = 'blue', label = 'Group B')\n",
    "plt.ylabel('Orders per buyer')\n",
    "plt.xlabel('Amount of buyers')\n",
    "plt.title('Number of orders per user')\n",
    "plt.legend()\n",
    "plt.show()"
   ]
  },
  {
   "cell_type": "markdown",
   "id": "792757e6",
   "metadata": {},
   "source": [
    "#### <font color = 'blue'>Notes:</font>\n",
    "\n",
    "* Most of the users have only 1 order.\n",
    "* Very little users have made 2 orders.\n",
    "* Only 7 users made 3 orders.\n",
    "\n",
    "[Return to table of contents ^^^](#Table-of-Contents)"
   ]
  },
  {
   "cell_type": "markdown",
   "id": "c543f00b",
   "metadata": {},
   "source": [
    "## 2.6 Define anomalous number of orders per user\n",
    "### Calculate the 95th and 99th percentiles for the number of orders per user. Define the point at which a data point becomes an anomaly.\n"
   ]
  },
  {
   "cell_type": "code",
   "execution_count": 35,
   "id": "dc5a5eff",
   "metadata": {},
   "outputs": [
    {
     "data": {
      "text/plain": [
       "array([1., 2., 3.])"
      ]
     },
     "execution_count": 35,
     "metadata": {},
     "output_type": "execute_result"
    }
   ],
   "source": [
    "np.percentile(orders_by_user['orders'], [95, 99, 99.5])"
   ]
  },
  {
   "cell_type": "markdown",
   "id": "c6460ad2",
   "metadata": {},
   "source": [
    "#### <font color = 'blue'>Notes:</font>\n",
    "\n",
    "* 95% of the users have made only one order.\n",
    "* 99% of the users have made one or two orders.\n",
    "* Users who made 3 orders are placed in highest 0.5 procentile.\n",
    "* I will set regular amount of orders per user as 2, thus treating 3 orders per user as an anomaly.\n",
    "\n",
    "[Return to table of contents ^^^](#Table-of-Contents)"
   ]
  },
  {
   "cell_type": "markdown",
   "id": "2b2edee1",
   "metadata": {},
   "source": [
    "## 2.7 Orders' prices\n",
    "### Plot a scatter chart of order prices. Make conclusions and conjectures."
   ]
  },
  {
   "cell_type": "code",
   "execution_count": 36,
   "id": "5276080c",
   "metadata": {},
   "outputs": [
    {
     "data": {
      "image/png": "[encoded data removed]",
      "text/plain": [
       "<Figure size 720x432 with 1 Axes>"
      ]
     },
     "metadata": {
      "needs_background": "light"
     },
     "output_type": "display_data"
    }
   ],
   "source": [
    "x_values_a2 = pd.Series(range(0, len(orders_raw.query('group == \"A\"'))))\n",
    "x_values_b2 = pd.Series(range(0, len(orders_raw.query('group == \"B\"'))))\n",
    "\n",
    "\n",
    "plt.scatter(x_values_a2, orders_raw.query('group == \"A\"')['revenue'], c = 'red', label = 'Group A') \n",
    "plt.scatter(x_values_b2, orders_raw.query('group == \"B\"')['revenue'], c = 'blue', label = 'Group B') \n",
    "plt.ylabel('Revenue sum')\n",
    "plt.xlabel('Amount of orders')\n",
    "plt.title('Distribution of order prices')\n",
    "plt.legend()\n",
    "plt.show()"
   ]
  },
  {
   "cell_type": "markdown",
   "id": "72473e05",
   "metadata": {},
   "source": [
    "#### <font color = 'blue'>Notes:</font>\n",
    "\n",
    "* Most of the orders are below 1000.\n",
    "* There are two single very high orders, one slightly above 2500 and another close to 20,000.\n",
    "\n",
    "[Return to table of contents ^^^](#Table-of-Contents)"
   ]
  },
  {
   "cell_type": "markdown",
   "id": "9f143d45",
   "metadata": {},
   "source": [
    "## 2.8 Define anomalous order prices\n",
    "### Calculate the 95th and 99th percentiles of order prices. Define the point at which a data point becomes an anomaly.\n"
   ]
  },
  {
   "cell_type": "code",
   "execution_count": 37,
   "id": "091680fe",
   "metadata": {},
   "outputs": [
    {
     "data": {
      "text/plain": [
       "array([414.275, 654.56 , 830.3  ])"
      ]
     },
     "execution_count": 37,
     "metadata": {},
     "output_type": "execute_result"
    }
   ],
   "source": [
    "np.percentile(orders_raw['revenue'], [95, 98, 99])"
   ]
  },
  {
   "cell_type": "markdown",
   "id": "7c796801",
   "metadata": {},
   "source": [
    "#### <font color = 'blue'>Notes:</font>\n",
    "\n",
    "* 95% of the orders are 414.28 or below.\n",
    "* 98% of the orders are 655 or below.\n",
    "* 99% of the orders are 830.3 or below.\n",
    "* I will set regular sum of orders as 600, thus treating orders higher than 600 as an anomaly.\n",
    "\n",
    "[Return to table of contents ^^^](#Table-of-Contents)"
   ]
  },
  {
   "cell_type": "markdown",
   "id": "1bbaf39b",
   "metadata": {},
   "source": [
    "## 2.9 Find the statistical significance of the difference in conversion between the groups using the raw data. Make conclusions and conjectures.\n"
   ]
  },
  {
   "cell_type": "code",
   "execution_count": 38,
   "id": "8f720cc4",
   "metadata": {},
   "outputs": [],
   "source": [
    "# create samples (non-cumulative) for the both groups:\n",
    "sample_a1 = orders_raw.query('group == \"A\"').groupby('date').agg({\n",
    "    'transaction_id':'count', 'visitor_id':'nunique', 'revenue':'sum'}).reset_index().merge(\n",
    "    visits_raw.query('group == \"A\"')[['date', 'visits']], on = 'date')\n",
    "sample_a1.columns = ['date', 'transactions', 'buyers', 'revenue', 'visits']\n",
    "\n",
    "sample_b1 = orders_raw.query('group == \"B\"').groupby('date').agg({\n",
    "    'transaction_id':'count', 'visitor_id':'nunique', 'revenue':'sum'}).reset_index().merge(\n",
    "    visits_raw.query('group == \"B\"')[['date', 'visits']], on = 'date')\n",
    "sample_b1.columns = ['date', 'transactions', 'buyers', 'revenue', 'visits']"
   ]
  },
  {
   "cell_type": "code",
   "execution_count": 39,
   "id": "77026dae",
   "metadata": {},
   "outputs": [],
   "source": [
    "# add conversion to both samples:\n",
    "sample_a1['conversion'] = (sample_a1['buyers'] / sample_a1['visits']).round(3)\n",
    "sample_b1['conversion'] = (sample_b1['buyers'] / sample_b1['visits']).round(3)"
   ]
  },
  {
   "cell_type": "code",
   "execution_count": 40,
   "id": "68d98fc9",
   "metadata": {},
   "outputs": [
    {
     "data": {
      "text/html": [
       "<div>\n",
       "<style scoped>\n",
       "    .dataframe tbody tr th:only-of-type {\n",
       "        vertical-align: middle;\n",
       "    }\n",
       "\n",
       "    .dataframe tbody tr th {\n",
       "        vertical-align: top;\n",
       "    }\n",
       "\n",
       "    .dataframe thead th {\n",
       "        text-align: right;\n",
       "    }\n",
       "</style>\n",
       "<table border=\"1\" class=\"dataframe\">\n",
       "  <thead>\n",
       "    <tr style=\"text-align: right;\">\n",
       "      <th></th>\n",
       "      <th>date</th>\n",
       "      <th>transactions</th>\n",
       "      <th>buyers</th>\n",
       "      <th>revenue</th>\n",
       "      <th>visits</th>\n",
       "      <th>conversion</th>\n",
       "    </tr>\n",
       "  </thead>\n",
       "  <tbody>\n",
       "    <tr>\n",
       "      <th>0</th>\n",
       "      <td>2019-08-01</td>\n",
       "      <td>23</td>\n",
       "      <td>19</td>\n",
       "      <td>2266.6</td>\n",
       "      <td>719</td>\n",
       "      <td>0.026</td>\n",
       "    </tr>\n",
       "    <tr>\n",
       "      <th>1</th>\n",
       "      <td>2019-08-02</td>\n",
       "      <td>19</td>\n",
       "      <td>18</td>\n",
       "      <td>1468.3</td>\n",
       "      <td>619</td>\n",
       "      <td>0.029</td>\n",
       "    </tr>\n",
       "    <tr>\n",
       "      <th>2</th>\n",
       "      <td>2019-08-03</td>\n",
       "      <td>24</td>\n",
       "      <td>24</td>\n",
       "      <td>1815.2</td>\n",
       "      <td>507</td>\n",
       "      <td>0.047</td>\n",
       "    </tr>\n",
       "    <tr>\n",
       "      <th>3</th>\n",
       "      <td>2019-08-04</td>\n",
       "      <td>11</td>\n",
       "      <td>11</td>\n",
       "      <td>675.5</td>\n",
       "      <td>717</td>\n",
       "      <td>0.015</td>\n",
       "    </tr>\n",
       "    <tr>\n",
       "      <th>4</th>\n",
       "      <td>2019-08-05</td>\n",
       "      <td>22</td>\n",
       "      <td>22</td>\n",
       "      <td>1398.0</td>\n",
       "      <td>756</td>\n",
       "      <td>0.029</td>\n",
       "    </tr>\n",
       "  </tbody>\n",
       "</table>\n",
       "</div>"
      ],
      "text/plain": [
       "        date  transactions  buyers  revenue  visits  conversion\n",
       "0 2019-08-01            23      19   2266.6     719       0.026\n",
       "1 2019-08-02            19      18   1468.3     619       0.029\n",
       "2 2019-08-03            24      24   1815.2     507       0.047\n",
       "3 2019-08-04            11      11    675.5     717       0.015\n",
       "4 2019-08-05            22      22   1398.0     756       0.029"
      ]
     },
     "execution_count": 40,
     "metadata": {},
     "output_type": "execute_result"
    }
   ],
   "source": [
    "sample_a1.head()"
   ]
  },
  {
   "cell_type": "code",
   "execution_count": 41,
   "id": "1d800b9a",
   "metadata": {},
   "outputs": [
    {
     "data": {
      "text/html": [
       "<div>\n",
       "<style scoped>\n",
       "    .dataframe tbody tr th:only-of-type {\n",
       "        vertical-align: middle;\n",
       "    }\n",
       "\n",
       "    .dataframe tbody tr th {\n",
       "        vertical-align: top;\n",
       "    }\n",
       "\n",
       "    .dataframe thead th {\n",
       "        text-align: right;\n",
       "    }\n",
       "</style>\n",
       "<table border=\"1\" class=\"dataframe\">\n",
       "  <thead>\n",
       "    <tr style=\"text-align: right;\">\n",
       "      <th></th>\n",
       "      <th>date</th>\n",
       "      <th>transactions</th>\n",
       "      <th>buyers</th>\n",
       "      <th>revenue</th>\n",
       "      <th>visits</th>\n",
       "      <th>conversion</th>\n",
       "    </tr>\n",
       "  </thead>\n",
       "  <tbody>\n",
       "    <tr>\n",
       "      <th>0</th>\n",
       "      <td>2019-08-01</td>\n",
       "      <td>17</td>\n",
       "      <td>17</td>\n",
       "      <td>967.2</td>\n",
       "      <td>713</td>\n",
       "      <td>0.024</td>\n",
       "    </tr>\n",
       "    <tr>\n",
       "      <th>1</th>\n",
       "      <td>2019-08-02</td>\n",
       "      <td>23</td>\n",
       "      <td>22</td>\n",
       "      <td>2568.1</td>\n",
       "      <td>581</td>\n",
       "      <td>0.038</td>\n",
       "    </tr>\n",
       "    <tr>\n",
       "      <th>2</th>\n",
       "      <td>2019-08-03</td>\n",
       "      <td>14</td>\n",
       "      <td>14</td>\n",
       "      <td>1071.6</td>\n",
       "      <td>509</td>\n",
       "      <td>0.028</td>\n",
       "    </tr>\n",
       "    <tr>\n",
       "      <th>3</th>\n",
       "      <td>2019-08-04</td>\n",
       "      <td>14</td>\n",
       "      <td>13</td>\n",
       "      <td>1531.6</td>\n",
       "      <td>770</td>\n",
       "      <td>0.017</td>\n",
       "    </tr>\n",
       "    <tr>\n",
       "      <th>4</th>\n",
       "      <td>2019-08-05</td>\n",
       "      <td>21</td>\n",
       "      <td>21</td>\n",
       "      <td>1449.3</td>\n",
       "      <td>707</td>\n",
       "      <td>0.030</td>\n",
       "    </tr>\n",
       "  </tbody>\n",
       "</table>\n",
       "</div>"
      ],
      "text/plain": [
       "        date  transactions  buyers  revenue  visits  conversion\n",
       "0 2019-08-01            17      17    967.2     713       0.024\n",
       "1 2019-08-02            23      22   2568.1     581       0.038\n",
       "2 2019-08-03            14      14   1071.6     509       0.028\n",
       "3 2019-08-04            14      13   1531.6     770       0.017\n",
       "4 2019-08-05            21      21   1449.3     707       0.030"
      ]
     },
     "execution_count": 41,
     "metadata": {},
     "output_type": "execute_result"
    }
   ],
   "source": [
    "sample_b1.head()"
   ]
  },
  {
   "cell_type": "code",
   "execution_count": 42,
   "id": "d3643f09",
   "metadata": {},
   "outputs": [],
   "source": [
    "def testing_average(sample1, sample2, alpha = 0.05):\n",
    "    # checking normality:\n",
    "    stat1, p1_norm = st.shapiro(sample1)\n",
    "    stat2, p2_norm = st.shapiro(sample2)\n",
    "    \n",
    "    # if both normal:\n",
    "    if p1_norm > alpha and p2_norm > alpha: \n",
    "        \n",
    "        #check variance:\n",
    "        statslev, p_levene = st.levene(sample1, sample2)\n",
    "        \n",
    "        if p_levene < alpha: ## variances not equal ##\n",
    "            statist, p_value = st.ttest_ind(sample1, sample2, equal_var = False)\n",
    "        else: ## variances equal ##\n",
    "            statist, p_value = st.ttest_ind(sample1, sample2, equal_var = True)\n",
    "    \n",
    "    else: ## at least one of samples not normal ##\n",
    "        statist, p_value = st.mannwhitneyu(sample1, sample2)\n",
    "        \n",
    "    print('P-value is: ', p_value)\n",
    "    \n",
    "    if p_value < alpha:\n",
    "        print('Reject H0. The samples are not equal.')\n",
    "    else:\n",
    "        print('Cannot reject H0. There is not enough evidence to determine that samples are not equal.')"
   ]
  },
  {
   "cell_type": "code",
   "execution_count": 43,
   "id": "c76d6eaa",
   "metadata": {},
   "outputs": [
    {
     "name": "stdout",
     "output_type": "stream",
     "text": [
      "P-value is:  0.018522972904671618\n",
      "Reject H0. The samples are not equal.\n"
     ]
    }
   ],
   "source": [
    "testing_average(sample_a1['conversion'], sample_b1['conversion'])"
   ]
  },
  {
   "cell_type": "markdown",
   "id": "93458789",
   "metadata": {},
   "source": [
    "#### <font color = 'blue'>Notes:</font>\n",
    "\n",
    "* There is statistically significant difference between conversion rates in the raw data.\n",
    "\n",
    "[Return to table of contents ^^^](#Table-of-Contents)"
   ]
  },
  {
   "cell_type": "markdown",
   "id": "04642959",
   "metadata": {},
   "source": [
    "## 2.10 Find the statistical significance of the difference in average order size between the groups using the raw data. Make conclusions and conjectures."
   ]
  },
  {
   "cell_type": "code",
   "execution_count": 44,
   "id": "0190b161",
   "metadata": {},
   "outputs": [],
   "source": [
    "# add average order size to samples:\n",
    "\n",
    "sample_a1['avg_purchase'] = (sample_a1['revenue'] / sample_a1['buyers']).round(2)\n",
    "sample_b1['avg_purchase'] = (sample_b1['revenue'] / sample_b1['buyers']).round(2)"
   ]
  },
  {
   "cell_type": "code",
   "execution_count": 45,
   "id": "be0560d2",
   "metadata": {},
   "outputs": [
    {
     "data": {
      "text/html": [
       "<div>\n",
       "<style scoped>\n",
       "    .dataframe tbody tr th:only-of-type {\n",
       "        vertical-align: middle;\n",
       "    }\n",
       "\n",
       "    .dataframe tbody tr th {\n",
       "        vertical-align: top;\n",
       "    }\n",
       "\n",
       "    .dataframe thead th {\n",
       "        text-align: right;\n",
       "    }\n",
       "</style>\n",
       "<table border=\"1\" class=\"dataframe\">\n",
       "  <thead>\n",
       "    <tr style=\"text-align: right;\">\n",
       "      <th></th>\n",
       "      <th>date</th>\n",
       "      <th>transactions</th>\n",
       "      <th>buyers</th>\n",
       "      <th>revenue</th>\n",
       "      <th>visits</th>\n",
       "      <th>conversion</th>\n",
       "      <th>avg_purchase</th>\n",
       "    </tr>\n",
       "  </thead>\n",
       "  <tbody>\n",
       "    <tr>\n",
       "      <th>0</th>\n",
       "      <td>2019-08-01</td>\n",
       "      <td>23</td>\n",
       "      <td>19</td>\n",
       "      <td>2266.6</td>\n",
       "      <td>719</td>\n",
       "      <td>0.026</td>\n",
       "      <td>119.29</td>\n",
       "    </tr>\n",
       "    <tr>\n",
       "      <th>1</th>\n",
       "      <td>2019-08-02</td>\n",
       "      <td>19</td>\n",
       "      <td>18</td>\n",
       "      <td>1468.3</td>\n",
       "      <td>619</td>\n",
       "      <td>0.029</td>\n",
       "      <td>81.57</td>\n",
       "    </tr>\n",
       "    <tr>\n",
       "      <th>2</th>\n",
       "      <td>2019-08-03</td>\n",
       "      <td>24</td>\n",
       "      <td>24</td>\n",
       "      <td>1815.2</td>\n",
       "      <td>507</td>\n",
       "      <td>0.047</td>\n",
       "      <td>75.63</td>\n",
       "    </tr>\n",
       "    <tr>\n",
       "      <th>3</th>\n",
       "      <td>2019-08-04</td>\n",
       "      <td>11</td>\n",
       "      <td>11</td>\n",
       "      <td>675.5</td>\n",
       "      <td>717</td>\n",
       "      <td>0.015</td>\n",
       "      <td>61.41</td>\n",
       "    </tr>\n",
       "    <tr>\n",
       "      <th>4</th>\n",
       "      <td>2019-08-05</td>\n",
       "      <td>22</td>\n",
       "      <td>22</td>\n",
       "      <td>1398.0</td>\n",
       "      <td>756</td>\n",
       "      <td>0.029</td>\n",
       "      <td>63.55</td>\n",
       "    </tr>\n",
       "  </tbody>\n",
       "</table>\n",
       "</div>"
      ],
      "text/plain": [
       "        date  transactions  buyers  revenue  visits  conversion  avg_purchase\n",
       "0 2019-08-01            23      19   2266.6     719       0.026        119.29\n",
       "1 2019-08-02            19      18   1468.3     619       0.029         81.57\n",
       "2 2019-08-03            24      24   1815.2     507       0.047         75.63\n",
       "3 2019-08-04            11      11    675.5     717       0.015         61.41\n",
       "4 2019-08-05            22      22   1398.0     756       0.029         63.55"
      ]
     },
     "execution_count": 45,
     "metadata": {},
     "output_type": "execute_result"
    }
   ],
   "source": [
    "sample_a1.head()"
   ]
  },
  {
   "cell_type": "code",
   "execution_count": 46,
   "id": "a798e88e",
   "metadata": {},
   "outputs": [
    {
     "data": {
      "text/html": [
       "<div>\n",
       "<style scoped>\n",
       "    .dataframe tbody tr th:only-of-type {\n",
       "        vertical-align: middle;\n",
       "    }\n",
       "\n",
       "    .dataframe tbody tr th {\n",
       "        vertical-align: top;\n",
       "    }\n",
       "\n",
       "    .dataframe thead th {\n",
       "        text-align: right;\n",
       "    }\n",
       "</style>\n",
       "<table border=\"1\" class=\"dataframe\">\n",
       "  <thead>\n",
       "    <tr style=\"text-align: right;\">\n",
       "      <th></th>\n",
       "      <th>date</th>\n",
       "      <th>transactions</th>\n",
       "      <th>buyers</th>\n",
       "      <th>revenue</th>\n",
       "      <th>visits</th>\n",
       "      <th>conversion</th>\n",
       "      <th>avg_purchase</th>\n",
       "    </tr>\n",
       "  </thead>\n",
       "  <tbody>\n",
       "    <tr>\n",
       "      <th>0</th>\n",
       "      <td>2019-08-01</td>\n",
       "      <td>17</td>\n",
       "      <td>17</td>\n",
       "      <td>967.2</td>\n",
       "      <td>713</td>\n",
       "      <td>0.024</td>\n",
       "      <td>56.89</td>\n",
       "    </tr>\n",
       "    <tr>\n",
       "      <th>1</th>\n",
       "      <td>2019-08-02</td>\n",
       "      <td>23</td>\n",
       "      <td>22</td>\n",
       "      <td>2568.1</td>\n",
       "      <td>581</td>\n",
       "      <td>0.038</td>\n",
       "      <td>116.73</td>\n",
       "    </tr>\n",
       "    <tr>\n",
       "      <th>2</th>\n",
       "      <td>2019-08-03</td>\n",
       "      <td>14</td>\n",
       "      <td>14</td>\n",
       "      <td>1071.6</td>\n",
       "      <td>509</td>\n",
       "      <td>0.028</td>\n",
       "      <td>76.54</td>\n",
       "    </tr>\n",
       "    <tr>\n",
       "      <th>3</th>\n",
       "      <td>2019-08-04</td>\n",
       "      <td>14</td>\n",
       "      <td>13</td>\n",
       "      <td>1531.6</td>\n",
       "      <td>770</td>\n",
       "      <td>0.017</td>\n",
       "      <td>117.82</td>\n",
       "    </tr>\n",
       "    <tr>\n",
       "      <th>4</th>\n",
       "      <td>2019-08-05</td>\n",
       "      <td>21</td>\n",
       "      <td>21</td>\n",
       "      <td>1449.3</td>\n",
       "      <td>707</td>\n",
       "      <td>0.030</td>\n",
       "      <td>69.01</td>\n",
       "    </tr>\n",
       "  </tbody>\n",
       "</table>\n",
       "</div>"
      ],
      "text/plain": [
       "        date  transactions  buyers  revenue  visits  conversion  avg_purchase\n",
       "0 2019-08-01            17      17    967.2     713       0.024         56.89\n",
       "1 2019-08-02            23      22   2568.1     581       0.038        116.73\n",
       "2 2019-08-03            14      14   1071.6     509       0.028         76.54\n",
       "3 2019-08-04            14      13   1531.6     770       0.017        117.82\n",
       "4 2019-08-05            21      21   1449.3     707       0.030         69.01"
      ]
     },
     "execution_count": 46,
     "metadata": {},
     "output_type": "execute_result"
    }
   ],
   "source": [
    "sample_b1.head()"
   ]
  },
  {
   "cell_type": "code",
   "execution_count": 47,
   "id": "c6ec5931",
   "metadata": {},
   "outputs": [
    {
     "name": "stdout",
     "output_type": "stream",
     "text": [
      "P-value is:  0.3571665273242294\n",
      "Cannot reject H0. There is not enough evidence to determine that samples are not equal.\n"
     ]
    }
   ],
   "source": [
    "testing_average(sample_a1['avg_purchase'], sample_b1['avg_purchase'])"
   ]
  },
  {
   "cell_type": "markdown",
   "id": "37d711e6",
   "metadata": {},
   "source": [
    "#### <font color = 'blue'>Notes:</font>\n",
    "\n",
    "* The difference between average order sizes in the raw data is not statistically significant.\n",
    "\n",
    "[Return to table of contents ^^^](#Table-of-Contents)"
   ]
  },
  {
   "cell_type": "markdown",
   "id": "88224883",
   "metadata": {},
   "source": [
    "## 2.11 Find the statistical significance of the difference in conversion between the groups using the filtered data. Make conclusions and conjectures."
   ]
  },
  {
   "cell_type": "code",
   "execution_count": 48,
   "id": "11a404b2",
   "metadata": {},
   "outputs": [],
   "source": [
    "# create sample with abnormal buyers (with too many orders or who made too expensive ones),\n",
    "# according to criteria set in parts 2.6 and 2.8\n",
    "revenue_lim = 600\n",
    "orders_lim = 2\n",
    "\n",
    "users_with_many_orders = orders_by_user.query('orders > @orders_lim').visitor_id\n",
    "users_with_expensive_orders = orders_raw.query('revenue > @revenue_lim').visitor_id\n",
    "abnormal_users = pd.concat([users_with_many_orders, users_with_expensive_orders], axis = 0)\n",
    "\n",
    "# create filtered data slice without those users:\n",
    "orders_filtered = orders_raw[np.logical_not(orders_raw['visitor_id'].isin(abnormal_users))]"
   ]
  },
  {
   "cell_type": "code",
   "execution_count": 49,
   "id": "c46481e5",
   "metadata": {},
   "outputs": [],
   "source": [
    "# create filtered samples for the both groups:\n",
    "sample_a2 = orders_filtered.query('group == \"A\"').groupby('date').agg({\n",
    "    'transaction_id':'count', 'visitor_id':'nunique', 'revenue':'sum'}).reset_index().merge(\n",
    "    visits_raw.query('group == \"A\"')[['date', 'visits']], on = 'date')\n",
    "sample_a2.columns = ['date', 'transactions', 'buyers', 'revenue', 'visits']\n",
    "\n",
    "sample_b2 = orders_filtered.query('group == \"B\"').groupby('date').agg({\n",
    "    'transaction_id':'count', 'visitor_id':'nunique', 'revenue':'sum'}).reset_index().merge(\n",
    "    visits_raw.query('group == \"B\"')[['date', 'visits']], on = 'date')\n",
    "sample_b2.columns = ['date', 'transactions', 'buyers', 'revenue', 'visits']"
   ]
  },
  {
   "cell_type": "code",
   "execution_count": 50,
   "id": "00d1d47e",
   "metadata": {},
   "outputs": [],
   "source": [
    "# add conversion to both samples:\n",
    "sample_a2['conversion'] = (sample_a2['buyers'] / sample_a2['visits']).round(3)\n",
    "sample_b2['conversion'] = (sample_b2['buyers'] / sample_b2['visits']).round(3)"
   ]
  },
  {
   "cell_type": "code",
   "execution_count": 51,
   "id": "ce6843b9",
   "metadata": {},
   "outputs": [
    {
     "data": {
      "text/html": [
       "<div>\n",
       "<style scoped>\n",
       "    .dataframe tbody tr th:only-of-type {\n",
       "        vertical-align: middle;\n",
       "    }\n",
       "\n",
       "    .dataframe tbody tr th {\n",
       "        vertical-align: top;\n",
       "    }\n",
       "\n",
       "    .dataframe thead th {\n",
       "        text-align: right;\n",
       "    }\n",
       "</style>\n",
       "<table border=\"1\" class=\"dataframe\">\n",
       "  <thead>\n",
       "    <tr style=\"text-align: right;\">\n",
       "      <th></th>\n",
       "      <th>date</th>\n",
       "      <th>transactions</th>\n",
       "      <th>buyers</th>\n",
       "      <th>revenue</th>\n",
       "      <th>visits</th>\n",
       "      <th>conversion</th>\n",
       "    </tr>\n",
       "  </thead>\n",
       "  <tbody>\n",
       "    <tr>\n",
       "      <th>0</th>\n",
       "      <td>2019-08-01</td>\n",
       "      <td>18</td>\n",
       "      <td>17</td>\n",
       "      <td>1779.3</td>\n",
       "      <td>719</td>\n",
       "      <td>0.024</td>\n",
       "    </tr>\n",
       "    <tr>\n",
       "      <th>1</th>\n",
       "      <td>2019-08-02</td>\n",
       "      <td>18</td>\n",
       "      <td>17</td>\n",
       "      <td>1438.3</td>\n",
       "      <td>619</td>\n",
       "      <td>0.027</td>\n",
       "    </tr>\n",
       "    <tr>\n",
       "      <th>2</th>\n",
       "      <td>2019-08-03</td>\n",
       "      <td>24</td>\n",
       "      <td>24</td>\n",
       "      <td>1815.2</td>\n",
       "      <td>507</td>\n",
       "      <td>0.047</td>\n",
       "    </tr>\n",
       "    <tr>\n",
       "      <th>3</th>\n",
       "      <td>2019-08-04</td>\n",
       "      <td>11</td>\n",
       "      <td>11</td>\n",
       "      <td>675.5</td>\n",
       "      <td>717</td>\n",
       "      <td>0.015</td>\n",
       "    </tr>\n",
       "    <tr>\n",
       "      <th>4</th>\n",
       "      <td>2019-08-05</td>\n",
       "      <td>22</td>\n",
       "      <td>22</td>\n",
       "      <td>1398.0</td>\n",
       "      <td>756</td>\n",
       "      <td>0.029</td>\n",
       "    </tr>\n",
       "  </tbody>\n",
       "</table>\n",
       "</div>"
      ],
      "text/plain": [
       "        date  transactions  buyers  revenue  visits  conversion\n",
       "0 2019-08-01            18      17   1779.3     719       0.024\n",
       "1 2019-08-02            18      17   1438.3     619       0.027\n",
       "2 2019-08-03            24      24   1815.2     507       0.047\n",
       "3 2019-08-04            11      11    675.5     717       0.015\n",
       "4 2019-08-05            22      22   1398.0     756       0.029"
      ]
     },
     "execution_count": 51,
     "metadata": {},
     "output_type": "execute_result"
    }
   ],
   "source": [
    "sample_a2.head()"
   ]
  },
  {
   "cell_type": "code",
   "execution_count": 52,
   "id": "d7265b10",
   "metadata": {},
   "outputs": [
    {
     "data": {
      "text/html": [
       "<div>\n",
       "<style scoped>\n",
       "    .dataframe tbody tr th:only-of-type {\n",
       "        vertical-align: middle;\n",
       "    }\n",
       "\n",
       "    .dataframe tbody tr th {\n",
       "        vertical-align: top;\n",
       "    }\n",
       "\n",
       "    .dataframe thead th {\n",
       "        text-align: right;\n",
       "    }\n",
       "</style>\n",
       "<table border=\"1\" class=\"dataframe\">\n",
       "  <thead>\n",
       "    <tr style=\"text-align: right;\">\n",
       "      <th></th>\n",
       "      <th>date</th>\n",
       "      <th>transactions</th>\n",
       "      <th>buyers</th>\n",
       "      <th>revenue</th>\n",
       "      <th>visits</th>\n",
       "      <th>conversion</th>\n",
       "    </tr>\n",
       "  </thead>\n",
       "  <tbody>\n",
       "    <tr>\n",
       "      <th>0</th>\n",
       "      <td>2019-08-01</td>\n",
       "      <td>17</td>\n",
       "      <td>17</td>\n",
       "      <td>967.2</td>\n",
       "      <td>713</td>\n",
       "      <td>0.024</td>\n",
       "    </tr>\n",
       "    <tr>\n",
       "      <th>1</th>\n",
       "      <td>2019-08-02</td>\n",
       "      <td>23</td>\n",
       "      <td>22</td>\n",
       "      <td>2568.1</td>\n",
       "      <td>581</td>\n",
       "      <td>0.038</td>\n",
       "    </tr>\n",
       "    <tr>\n",
       "      <th>2</th>\n",
       "      <td>2019-08-03</td>\n",
       "      <td>14</td>\n",
       "      <td>14</td>\n",
       "      <td>1071.6</td>\n",
       "      <td>509</td>\n",
       "      <td>0.028</td>\n",
       "    </tr>\n",
       "    <tr>\n",
       "      <th>3</th>\n",
       "      <td>2019-08-04</td>\n",
       "      <td>14</td>\n",
       "      <td>13</td>\n",
       "      <td>1531.6</td>\n",
       "      <td>770</td>\n",
       "      <td>0.017</td>\n",
       "    </tr>\n",
       "    <tr>\n",
       "      <th>4</th>\n",
       "      <td>2019-08-05</td>\n",
       "      <td>21</td>\n",
       "      <td>21</td>\n",
       "      <td>1449.3</td>\n",
       "      <td>707</td>\n",
       "      <td>0.030</td>\n",
       "    </tr>\n",
       "  </tbody>\n",
       "</table>\n",
       "</div>"
      ],
      "text/plain": [
       "        date  transactions  buyers  revenue  visits  conversion\n",
       "0 2019-08-01            17      17    967.2     713       0.024\n",
       "1 2019-08-02            23      22   2568.1     581       0.038\n",
       "2 2019-08-03            14      14   1071.6     509       0.028\n",
       "3 2019-08-04            14      13   1531.6     770       0.017\n",
       "4 2019-08-05            21      21   1449.3     707       0.030"
      ]
     },
     "execution_count": 52,
     "metadata": {},
     "output_type": "execute_result"
    }
   ],
   "source": [
    "sample_b2.head()"
   ]
  },
  {
   "cell_type": "code",
   "execution_count": 53,
   "id": "ae0c3915",
   "metadata": {},
   "outputs": [
    {
     "name": "stdout",
     "output_type": "stream",
     "text": [
      "P-value is:  0.00910806345676521\n",
      "Reject H0. The samples are not equal.\n"
     ]
    }
   ],
   "source": [
    "testing_average(sample_a2['conversion'], sample_b2['conversion'])"
   ]
  },
  {
   "cell_type": "markdown",
   "id": "251559fd",
   "metadata": {},
   "source": [
    "#### <font color = 'blue'>Notes:</font>\n",
    "\n",
    "* There is statistically significant difference between conversion rates in the filtered data.\n",
    "\n",
    "[Return to table of contents ^^^](#Table-of-Contents)"
   ]
  },
  {
   "cell_type": "markdown",
   "id": "1580c3fb",
   "metadata": {},
   "source": [
    "## 2.12 Find the statistical significance of the difference in average order size between the groups using the filtered data. Make conclusions and conjectures."
   ]
  },
  {
   "cell_type": "code",
   "execution_count": 54,
   "id": "96bcdf88",
   "metadata": {},
   "outputs": [],
   "source": [
    "# add average order size to the filtered samples:\n",
    "\n",
    "sample_a2['avg_purchase'] = (sample_a2['revenue'] / sample_a2['buyers']).round(2)\n",
    "sample_b2['avg_purchase'] = (sample_b2['revenue'] / sample_b2['buyers']).round(2)"
   ]
  },
  {
   "cell_type": "code",
   "execution_count": 55,
   "id": "fce64470",
   "metadata": {},
   "outputs": [
    {
     "data": {
      "text/html": [
       "<div>\n",
       "<style scoped>\n",
       "    .dataframe tbody tr th:only-of-type {\n",
       "        vertical-align: middle;\n",
       "    }\n",
       "\n",
       "    .dataframe tbody tr th {\n",
       "        vertical-align: top;\n",
       "    }\n",
       "\n",
       "    .dataframe thead th {\n",
       "        text-align: right;\n",
       "    }\n",
       "</style>\n",
       "<table border=\"1\" class=\"dataframe\">\n",
       "  <thead>\n",
       "    <tr style=\"text-align: right;\">\n",
       "      <th></th>\n",
       "      <th>date</th>\n",
       "      <th>transactions</th>\n",
       "      <th>buyers</th>\n",
       "      <th>revenue</th>\n",
       "      <th>visits</th>\n",
       "      <th>conversion</th>\n",
       "      <th>avg_purchase</th>\n",
       "    </tr>\n",
       "  </thead>\n",
       "  <tbody>\n",
       "    <tr>\n",
       "      <th>0</th>\n",
       "      <td>2019-08-01</td>\n",
       "      <td>18</td>\n",
       "      <td>17</td>\n",
       "      <td>1779.3</td>\n",
       "      <td>719</td>\n",
       "      <td>0.024</td>\n",
       "      <td>104.66</td>\n",
       "    </tr>\n",
       "    <tr>\n",
       "      <th>1</th>\n",
       "      <td>2019-08-02</td>\n",
       "      <td>18</td>\n",
       "      <td>17</td>\n",
       "      <td>1438.3</td>\n",
       "      <td>619</td>\n",
       "      <td>0.027</td>\n",
       "      <td>84.61</td>\n",
       "    </tr>\n",
       "    <tr>\n",
       "      <th>2</th>\n",
       "      <td>2019-08-03</td>\n",
       "      <td>24</td>\n",
       "      <td>24</td>\n",
       "      <td>1815.2</td>\n",
       "      <td>507</td>\n",
       "      <td>0.047</td>\n",
       "      <td>75.63</td>\n",
       "    </tr>\n",
       "    <tr>\n",
       "      <th>3</th>\n",
       "      <td>2019-08-04</td>\n",
       "      <td>11</td>\n",
       "      <td>11</td>\n",
       "      <td>675.5</td>\n",
       "      <td>717</td>\n",
       "      <td>0.015</td>\n",
       "      <td>61.41</td>\n",
       "    </tr>\n",
       "    <tr>\n",
       "      <th>4</th>\n",
       "      <td>2019-08-05</td>\n",
       "      <td>22</td>\n",
       "      <td>22</td>\n",
       "      <td>1398.0</td>\n",
       "      <td>756</td>\n",
       "      <td>0.029</td>\n",
       "      <td>63.55</td>\n",
       "    </tr>\n",
       "  </tbody>\n",
       "</table>\n",
       "</div>"
      ],
      "text/plain": [
       "        date  transactions  buyers  revenue  visits  conversion  avg_purchase\n",
       "0 2019-08-01            18      17   1779.3     719       0.024        104.66\n",
       "1 2019-08-02            18      17   1438.3     619       0.027         84.61\n",
       "2 2019-08-03            24      24   1815.2     507       0.047         75.63\n",
       "3 2019-08-04            11      11    675.5     717       0.015         61.41\n",
       "4 2019-08-05            22      22   1398.0     756       0.029         63.55"
      ]
     },
     "execution_count": 55,
     "metadata": {},
     "output_type": "execute_result"
    }
   ],
   "source": [
    "sample_a2.head()"
   ]
  },
  {
   "cell_type": "code",
   "execution_count": 56,
   "id": "5117e37f",
   "metadata": {},
   "outputs": [
    {
     "data": {
      "text/html": [
       "<div>\n",
       "<style scoped>\n",
       "    .dataframe tbody tr th:only-of-type {\n",
       "        vertical-align: middle;\n",
       "    }\n",
       "\n",
       "    .dataframe tbody tr th {\n",
       "        vertical-align: top;\n",
       "    }\n",
       "\n",
       "    .dataframe thead th {\n",
       "        text-align: right;\n",
       "    }\n",
       "</style>\n",
       "<table border=\"1\" class=\"dataframe\">\n",
       "  <thead>\n",
       "    <tr style=\"text-align: right;\">\n",
       "      <th></th>\n",
       "      <th>date</th>\n",
       "      <th>transactions</th>\n",
       "      <th>buyers</th>\n",
       "      <th>revenue</th>\n",
       "      <th>visits</th>\n",
       "      <th>conversion</th>\n",
       "      <th>avg_purchase</th>\n",
       "    </tr>\n",
       "  </thead>\n",
       "  <tbody>\n",
       "    <tr>\n",
       "      <th>0</th>\n",
       "      <td>2019-08-01</td>\n",
       "      <td>17</td>\n",
       "      <td>17</td>\n",
       "      <td>967.2</td>\n",
       "      <td>713</td>\n",
       "      <td>0.024</td>\n",
       "      <td>56.89</td>\n",
       "    </tr>\n",
       "    <tr>\n",
       "      <th>1</th>\n",
       "      <td>2019-08-02</td>\n",
       "      <td>23</td>\n",
       "      <td>22</td>\n",
       "      <td>2568.1</td>\n",
       "      <td>581</td>\n",
       "      <td>0.038</td>\n",
       "      <td>116.73</td>\n",
       "    </tr>\n",
       "    <tr>\n",
       "      <th>2</th>\n",
       "      <td>2019-08-03</td>\n",
       "      <td>14</td>\n",
       "      <td>14</td>\n",
       "      <td>1071.6</td>\n",
       "      <td>509</td>\n",
       "      <td>0.028</td>\n",
       "      <td>76.54</td>\n",
       "    </tr>\n",
       "    <tr>\n",
       "      <th>3</th>\n",
       "      <td>2019-08-04</td>\n",
       "      <td>14</td>\n",
       "      <td>13</td>\n",
       "      <td>1531.6</td>\n",
       "      <td>770</td>\n",
       "      <td>0.017</td>\n",
       "      <td>117.82</td>\n",
       "    </tr>\n",
       "    <tr>\n",
       "      <th>4</th>\n",
       "      <td>2019-08-05</td>\n",
       "      <td>21</td>\n",
       "      <td>21</td>\n",
       "      <td>1449.3</td>\n",
       "      <td>707</td>\n",
       "      <td>0.030</td>\n",
       "      <td>69.01</td>\n",
       "    </tr>\n",
       "  </tbody>\n",
       "</table>\n",
       "</div>"
      ],
      "text/plain": [
       "        date  transactions  buyers  revenue  visits  conversion  avg_purchase\n",
       "0 2019-08-01            17      17    967.2     713       0.024         56.89\n",
       "1 2019-08-02            23      22   2568.1     581       0.038        116.73\n",
       "2 2019-08-03            14      14   1071.6     509       0.028         76.54\n",
       "3 2019-08-04            14      13   1531.6     770       0.017        117.82\n",
       "4 2019-08-05            21      21   1449.3     707       0.030         69.01"
      ]
     },
     "execution_count": 56,
     "metadata": {},
     "output_type": "execute_result"
    }
   ],
   "source": [
    "sample_b2.head()"
   ]
  },
  {
   "cell_type": "code",
   "execution_count": 57,
   "id": "073cdf2b",
   "metadata": {},
   "outputs": [
    {
     "name": "stdout",
     "output_type": "stream",
     "text": [
      "P-value is:  0.7784158748673622\n",
      "Cannot reject H0. There is not enough evidence to determine that samples are not equal.\n"
     ]
    }
   ],
   "source": [
    "testing_average(sample_a2['avg_purchase'], sample_b2['avg_purchase'])"
   ]
  },
  {
   "cell_type": "markdown",
   "id": "b7574873",
   "metadata": {},
   "source": [
    "#### <font color = 'blue'>Notes:</font>\n",
    "\n",
    "* The difference between average order sizes in the filtered data is not statistically significant.\n",
    "\n",
    "[Return to table of contents ^^^](#Table-of-Contents)"
   ]
  },
  {
   "cell_type": "markdown",
   "id": "4742599c",
   "metadata": {},
   "source": [
    "# 2.13 Make a decision based on the test results."
   ]
  },
  {
   "cell_type": "markdown",
   "id": "e6843ad7",
   "metadata": {},
   "source": [
    "### Project overview\n",
    "\n",
    "In first part of this project, I had to prioritize hypotheses by two different frameworks. By both frameworks, hypotheses 0 (add two new channels for attracting traffic) and 7 (add a subscription form) was in the top 3. I explained the results and the difference [here](#1.4-The-Difference-Between-ICE-and-RICE:-Conclusion).\n",
    "<br><br>\n",
    "In the second part I had to analyze an outcome of A/B test. For this sake I plotted revenue, average order size and conversion graphs based on cumulative data, and also made a graph of relative difference between order sizes. By those graphs group B's values were mostly higher than group A's.\n",
    "<br><br>\n",
    "Then I checked data for irregularities and created two sample sets, one for raw data as it is and second for the filtered data. On both sets I conducted statistical tests and checked for statistically significant difference by next parameters:\n",
    " - Conversion rates.\n",
    " - Average purchase size.\n",
    "While average purchase size seems to be more or less similar, there is a statistically significant difference between conversion rates in two samples, for both the raw and the filtered data."
   ]
  },
  {
   "cell_type": "markdown",
   "id": "da202fd8",
   "metadata": {},
   "source": [
    "### Decision:\n",
    "Based on graphs and results of statistical tests, it is obvious that group B is in the lead. While average order sizes do not differ significantly for both groups, group B shows better cumulative revenue and better conversion. My decision would be to stop the test and to consider group B the leader.\n",
    "\n",
    "[Return to table of contents ^^^](#Table-of-Contents)"
   ]
  }
 ],
 "metadata": {
  "ExecuteTimeLog": [
   {
    "duration": 1498,
    "start_time": "2022-01-23T10:15:15.545Z"
   },
   {
    "duration": 256,
    "start_time": "2022-01-23T10:15:17.045Z"
   },
   {
    "duration": 22,
    "start_time": "2022-01-23T10:15:17.304Z"
   },
   {
    "duration": 7,
    "start_time": "2022-01-23T10:15:17.330Z"
   },
   {
    "duration": 14,
    "start_time": "2022-01-23T10:15:17.340Z"
   },
   {
    "duration": 16,
    "start_time": "2022-01-23T10:15:17.357Z"
   },
   {
    "duration": 19,
    "start_time": "2022-01-23T10:15:17.376Z"
   },
   {
    "duration": 287,
    "start_time": "2022-01-23T10:15:17.401Z"
   },
   {
    "duration": 789,
    "start_time": "2022-01-23T10:15:17.692Z"
   },
   {
    "duration": -969,
    "start_time": "2022-01-23T10:15:19.454Z"
   },
   {
    "duration": -972,
    "start_time": "2022-01-23T10:15:19.459Z"
   },
   {
    "duration": -975,
    "start_time": "2022-01-23T10:15:19.464Z"
   },
   {
    "duration": -976,
    "start_time": "2022-01-23T10:15:19.467Z"
   },
   {
    "duration": -978,
    "start_time": "2022-01-23T10:15:19.470Z"
   },
   {
    "duration": -979,
    "start_time": "2022-01-23T10:15:19.473Z"
   },
   {
    "duration": -980,
    "start_time": "2022-01-23T10:15:19.475Z"
   },
   {
    "duration": -982,
    "start_time": "2022-01-23T10:15:19.478Z"
   },
   {
    "duration": -984,
    "start_time": "2022-01-23T10:15:19.481Z"
   },
   {
    "duration": -984,
    "start_time": "2022-01-23T10:15:19.483Z"
   },
   {
    "duration": -985,
    "start_time": "2022-01-23T10:15:19.485Z"
   },
   {
    "duration": -986,
    "start_time": "2022-01-23T10:15:19.487Z"
   },
   {
    "duration": -986,
    "start_time": "2022-01-23T10:15:19.489Z"
   },
   {
    "duration": -987,
    "start_time": "2022-01-23T10:15:19.491Z"
   },
   {
    "duration": -988,
    "start_time": "2022-01-23T10:15:19.493Z"
   },
   {
    "duration": -987,
    "start_time": "2022-01-23T10:15:19.494Z"
   },
   {
    "duration": -1021,
    "start_time": "2022-01-23T10:15:19.530Z"
   },
   {
    "duration": -1024,
    "start_time": "2022-01-23T10:15:19.534Z"
   },
   {
    "duration": -1024,
    "start_time": "2022-01-23T10:15:19.536Z"
   },
   {
    "duration": -1025,
    "start_time": "2022-01-23T10:15:19.538Z"
   },
   {
    "duration": -1026,
    "start_time": "2022-01-23T10:15:19.540Z"
   },
   {
    "duration": -1028,
    "start_time": "2022-01-23T10:15:19.543Z"
   },
   {
    "duration": -1029,
    "start_time": "2022-01-23T10:15:19.546Z"
   },
   {
    "duration": -1030,
    "start_time": "2022-01-23T10:15:19.548Z"
   },
   {
    "duration": -1030,
    "start_time": "2022-01-23T10:15:19.550Z"
   },
   {
    "duration": -1034,
    "start_time": "2022-01-23T10:15:19.555Z"
   },
   {
    "duration": -1054,
    "start_time": "2022-01-23T10:15:19.576Z"
   },
   {
    "duration": -1009,
    "start_time": "2022-01-23T10:15:19.579Z"
   },
   {
    "duration": -1009,
    "start_time": "2022-01-23T10:15:19.581Z"
   },
   {
    "duration": -1010,
    "start_time": "2022-01-23T10:15:19.583Z"
   },
   {
    "duration": -1011,
    "start_time": "2022-01-23T10:15:19.585Z"
   },
   {
    "duration": -1012,
    "start_time": "2022-01-23T10:15:19.588Z"
   },
   {
    "duration": -1014,
    "start_time": "2022-01-23T10:15:19.591Z"
   },
   {
    "duration": -1017,
    "start_time": "2022-01-23T10:15:19.595Z"
   },
   {
    "duration": -1018,
    "start_time": "2022-01-23T10:15:19.598Z"
   },
   {
    "duration": -1017,
    "start_time": "2022-01-23T10:15:19.599Z"
   },
   {
    "duration": -1019,
    "start_time": "2022-01-23T10:15:19.602Z"
   },
   {
    "duration": -1019,
    "start_time": "2022-01-23T10:15:19.604Z"
   },
   {
    "duration": -1046,
    "start_time": "2022-01-23T10:15:19.632Z"
   },
   {
    "duration": -1046,
    "start_time": "2022-01-23T10:15:19.634Z"
   },
   {
    "duration": -1046,
    "start_time": "2022-01-23T10:15:19.636Z"
   },
   {
    "duration": -1046,
    "start_time": "2022-01-23T10:15:19.638Z"
   },
   {
    "duration": -1048,
    "start_time": "2022-01-23T10:15:19.641Z"
   },
   {
    "duration": -1049,
    "start_time": "2022-01-23T10:15:19.643Z"
   },
   {
    "duration": -1049,
    "start_time": "2022-01-23T10:15:19.645Z"
   },
   {
    "duration": -1051,
    "start_time": "2022-01-23T10:15:19.648Z"
   },
   {
    "duration": 68043,
    "start_time": "2022-01-23T10:16:41.658Z"
   },
   {
    "duration": 5,
    "start_time": "2022-01-23T10:17:54.239Z"
   },
   {
    "duration": 255,
    "start_time": "2022-01-23T10:17:55.070Z"
   },
   {
    "duration": 18,
    "start_time": "2022-01-23T10:17:55.328Z"
   },
   {
    "duration": 6,
    "start_time": "2022-01-23T10:17:55.894Z"
   },
   {
    "duration": 15,
    "start_time": "2022-01-23T10:17:56.094Z"
   },
   {
    "duration": 609,
    "start_time": "2022-01-23T10:17:56.534Z"
   },
   {
    "duration": 626,
    "start_time": "2022-01-23T10:17:57.146Z"
   },
   {
    "duration": 721,
    "start_time": "2022-01-23T10:17:57.774Z"
   },
   {
    "duration": 451,
    "start_time": "2022-01-23T10:17:58.498Z"
   },
   {
    "duration": -1022,
    "start_time": "2022-01-23T10:17:59.974Z"
   },
   {
    "duration": -1024,
    "start_time": "2022-01-23T10:17:59.978Z"
   },
   {
    "duration": -1027,
    "start_time": "2022-01-23T10:17:59.982Z"
   },
   {
    "duration": -1027,
    "start_time": "2022-01-23T10:17:59.984Z"
   },
   {
    "duration": -1029,
    "start_time": "2022-01-23T10:17:59.987Z"
   },
   {
    "duration": -1034,
    "start_time": "2022-01-23T10:17:59.994Z"
   },
   {
    "duration": -1038,
    "start_time": "2022-01-23T10:17:59.999Z"
   },
   {
    "duration": -1040,
    "start_time": "2022-01-23T10:18:00.002Z"
   },
   {
    "duration": -1040,
    "start_time": "2022-01-23T10:18:00.004Z"
   },
   {
    "duration": -1041,
    "start_time": "2022-01-23T10:18:00.006Z"
   },
   {
    "duration": 393,
    "start_time": "2022-01-23T10:17:58.985Z"
   },
   {
    "duration": -1037,
    "start_time": "2022-01-23T10:18:00.419Z"
   },
   {
    "duration": 341,
    "start_time": "2022-01-23T10:17:59.537Z"
   },
   {
    "duration": 64102,
    "start_time": "2022-01-23T10:18:47.708Z"
   },
   {
    "duration": 1427,
    "start_time": "2022-01-23T10:19:51.813Z"
   },
   {
    "duration": 133,
    "start_time": "2022-01-23T10:19:53.244Z"
   },
   {
    "duration": 18,
    "start_time": "2022-01-23T10:19:53.380Z"
   },
   {
    "duration": 5,
    "start_time": "2022-01-23T10:19:53.401Z"
   },
   {
    "duration": 17,
    "start_time": "2022-01-23T10:19:53.408Z"
   },
   {
    "duration": 7,
    "start_time": "2022-01-23T10:19:53.427Z"
   },
   {
    "duration": 16,
    "start_time": "2022-01-23T10:19:53.470Z"
   },
   {
    "duration": 168,
    "start_time": "2022-01-23T10:19:53.489Z"
   },
   {
    "duration": 41,
    "start_time": "2022-01-23T10:19:53.660Z"
   },
   {
    "duration": 29,
    "start_time": "2022-01-23T10:19:53.704Z"
   },
   {
    "duration": 33,
    "start_time": "2022-01-23T10:19:53.736Z"
   },
   {
    "duration": 12,
    "start_time": "2022-01-23T10:19:53.772Z"
   },
   {
    "duration": 11,
    "start_time": "2022-01-23T10:19:53.786Z"
   },
   {
    "duration": 11,
    "start_time": "2022-01-23T10:19:53.799Z"
   },
   {
    "duration": 5,
    "start_time": "2022-01-23T10:19:53.812Z"
   },
   {
    "duration": 52,
    "start_time": "2022-01-23T10:19:53.819Z"
   },
   {
    "duration": 13,
    "start_time": "2022-01-23T10:19:53.873Z"
   },
   {
    "duration": 13,
    "start_time": "2022-01-23T10:19:53.888Z"
   },
   {
    "duration": 8,
    "start_time": "2022-01-23T10:19:53.903Z"
   },
   {
    "duration": 15,
    "start_time": "2022-01-23T10:19:53.913Z"
   },
   {
    "duration": 289,
    "start_time": "2022-01-23T10:19:53.970Z"
   },
   {
    "duration": 16,
    "start_time": "2022-01-23T10:19:54.274Z"
   },
   {
    "duration": 17,
    "start_time": "2022-01-23T10:19:54.294Z"
   },
   {
    "duration": 16,
    "start_time": "2022-01-23T10:19:54.313Z"
   },
   {
    "duration": 458,
    "start_time": "2022-01-23T10:19:54.331Z"
   },
   {
    "duration": 6,
    "start_time": "2022-01-23T10:19:54.792Z"
   },
   {
    "duration": 416,
    "start_time": "2022-01-23T10:19:54.801Z"
   },
   {
    "duration": 509,
    "start_time": "2022-01-23T10:19:55.220Z"
   },
   {
    "duration": 8,
    "start_time": "2022-01-23T10:19:55.732Z"
   },
   {
    "duration": 429,
    "start_time": "2022-01-23T10:19:55.743Z"
   },
   {
    "duration": 123,
    "start_time": "2022-01-23T10:19:56.175Z"
   },
   {
    "duration": 472,
    "start_time": "2022-01-23T10:19:56.301Z"
   },
   {
    "duration": 8,
    "start_time": "2022-01-23T10:19:56.776Z"
   },
   {
    "duration": 541,
    "start_time": "2022-01-23T10:19:56.786Z"
   },
   {
    "duration": 6,
    "start_time": "2022-01-23T10:19:57.329Z"
   },
   {
    "duration": 56,
    "start_time": "2022-01-23T10:19:57.338Z"
   },
   {
    "duration": 7,
    "start_time": "2022-01-23T10:19:57.396Z"
   },
   {
    "duration": 16,
    "start_time": "2022-01-23T10:19:57.405Z"
   },
   {
    "duration": 14,
    "start_time": "2022-01-23T10:19:57.423Z"
   },
   {
    "duration": 7,
    "start_time": "2022-01-23T10:19:57.470Z"
   },
   {
    "duration": 13,
    "start_time": "2022-01-23T10:19:57.479Z"
   },
   {
    "duration": 7,
    "start_time": "2022-01-23T10:19:57.494Z"
   },
   {
    "duration": 21,
    "start_time": "2022-01-23T10:19:57.503Z"
   },
   {
    "duration": 45,
    "start_time": "2022-01-23T10:19:57.526Z"
   },
   {
    "duration": 6,
    "start_time": "2022-01-23T10:19:57.574Z"
   },
   {
    "duration": 16,
    "start_time": "2022-01-23T10:19:57.583Z"
   },
   {
    "duration": 33,
    "start_time": "2022-01-23T10:19:57.601Z"
   },
   {
    "duration": 34,
    "start_time": "2022-01-23T10:19:57.637Z"
   },
   {
    "duration": 14,
    "start_time": "2022-01-23T10:19:57.674Z"
   },
   {
    "duration": 16,
    "start_time": "2022-01-23T10:19:57.691Z"
   },
   {
    "duration": 7,
    "start_time": "2022-01-23T10:19:57.710Z"
   },
   {
    "duration": 8,
    "start_time": "2022-01-23T10:19:57.719Z"
   },
   {
    "duration": 51,
    "start_time": "2022-01-23T10:19:57.729Z"
   },
   {
    "duration": 17,
    "start_time": "2022-01-23T10:19:57.782Z"
   },
   {
    "duration": 7,
    "start_time": "2022-01-23T10:19:57.801Z"
   },
   {
    "duration": 25,
    "start_time": "2022-01-23T10:34:44.046Z"
   },
   {
    "duration": 26,
    "start_time": "2022-01-23T10:35:55.442Z"
   },
   {
    "duration": 7,
    "start_time": "2022-01-23T10:47:36.391Z"
   },
   {
    "duration": 7,
    "start_time": "2022-01-23T10:47:41.478Z"
   },
   {
    "duration": 7,
    "start_time": "2022-01-23T10:47:43.775Z"
   },
   {
    "duration": 7,
    "start_time": "2022-01-23T10:47:46.278Z"
   }
  ],
  "kernelspec": {
   "display_name": "Python 3",
   "language": "python",
   "name": "python3"
  },
  "language_info": {
   "codemirror_mode": {
    "name": "ipython",
    "version": 3
   },
   "file_extension": ".py",
   "mimetype": "text/x-python",
   "name": "python",
   "nbconvert_exporter": "python",
   "pygments_lexer": "ipython3",
   "version": "3.8.8"
  },
  "toc": {
   "base_numbering": 1,
   "nav_menu": {},
   "number_sections": true,
   "sideBar": true,
   "skip_h1_title": true,
   "title_cell": "Table of Contents",
   "title_sidebar": "Contents",
   "toc_cell": false,
   "toc_position": {},
   "toc_section_display": true,
   "toc_window_display": false
  }
 },
 "nbformat": 4,
 "nbformat_minor": 5
}
